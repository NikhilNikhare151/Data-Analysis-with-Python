{
 "cells": [
  {
   "cell_type": "code",
   "execution_count": 1,
   "id": "cfea42c5-b9c3-42ee-9bdb-491756ea644c",
   "metadata": {},
   "outputs": [],
   "source": [
    "import numpy as np\n",
    "import pandas as pd\n",
    "import seaborn as sns\n",
    "import matplotlib.pyplot as plt\n",
    "\n",
    "import warnings\n",
    "warnings.filterwarnings(\"ignore\")"
   ]
  },
  {
   "cell_type": "code",
   "execution_count": 2,
   "id": "385b2646-111a-40e3-8cad-61d3b9dfa290",
   "metadata": {},
   "outputs": [],
   "source": [
    "constituencywise_details=pd.read_csv(r\"C:\\Users\\Akhil\\Desktop\\data analytics\\2024 election analysis\\constituencywise_details.csv\")\n",
    "constituencywise_results=pd.read_csv(r\"C:\\Users\\Akhil\\Desktop\\data analytics\\2024 election analysis\\constituencywise_results.csv\")\n",
    "partywise_results=pd.read_csv(r\"C:\\Users\\Akhil\\Desktop\\data analytics\\2024 election analysis\\partywise_results.csv\")\n",
    "states=pd.read_csv(r\"C:\\Users\\Akhil\\Desktop\\data analytics\\2024 election analysis\\states.csv\")\n",
    "statewise_results=pd.read_csv(r\"C:\\Users\\Akhil\\Desktop\\data analytics\\2024 election analysis\\statewise_results.csv\")"
   ]
  },
  {
   "cell_type": "code",
   "execution_count": 3,
   "id": "39e93c8e-299d-4aea-b7e8-8d011184f008",
   "metadata": {},
   "outputs": [
    {
     "data": {
      "text/html": [
       "<div>\n",
       "<style scoped>\n",
       "    .dataframe tbody tr th:only-of-type {\n",
       "        vertical-align: middle;\n",
       "    }\n",
       "\n",
       "    .dataframe tbody tr th {\n",
       "        vertical-align: top;\n",
       "    }\n",
       "\n",
       "    .dataframe thead th {\n",
       "        text-align: right;\n",
       "    }\n",
       "</style>\n",
       "<table border=\"1\" class=\"dataframe\">\n",
       "  <thead>\n",
       "    <tr style=\"text-align: right;\">\n",
       "      <th></th>\n",
       "      <th>S.N.</th>\n",
       "      <th>Candidate</th>\n",
       "      <th>Party</th>\n",
       "      <th>EVM Votes</th>\n",
       "      <th>Postal Votes</th>\n",
       "      <th>Total Votes</th>\n",
       "      <th>% of Votes</th>\n",
       "      <th>Constituency ID</th>\n",
       "    </tr>\n",
       "  </thead>\n",
       "  <tbody>\n",
       "    <tr>\n",
       "      <th>4268</th>\n",
       "      <td>14</td>\n",
       "      <td>JUNNURI J SRINIVAS</td>\n",
       "      <td>Independent</td>\n",
       "      <td>1195</td>\n",
       "      <td>6</td>\n",
       "      <td>1201</td>\n",
       "      <td>0.09</td>\n",
       "      <td>S015</td>\n",
       "    </tr>\n",
       "  </tbody>\n",
       "</table>\n",
       "</div>"
      ],
      "text/plain": [
       "      S.N.           Candidate        Party  EVM Votes  Postal Votes  \\\n",
       "4268    14  JUNNURI J SRINIVAS  Independent       1195             6   \n",
       "\n",
       "      Total Votes  % of Votes Constituency ID  \n",
       "4268         1201        0.09            S015  "
      ]
     },
     "execution_count": 3,
     "metadata": {},
     "output_type": "execute_result"
    }
   ],
   "source": [
    "constituencywise_details.sample()"
   ]
  },
  {
   "cell_type": "code",
   "execution_count": 4,
   "id": "315aa9e8-c457-4e63-9ff5-63272d906162",
   "metadata": {},
   "outputs": [
    {
     "data": {
      "text/html": [
       "<div>\n",
       "<style scoped>\n",
       "    .dataframe tbody tr th:only-of-type {\n",
       "        vertical-align: middle;\n",
       "    }\n",
       "\n",
       "    .dataframe tbody tr th {\n",
       "        vertical-align: top;\n",
       "    }\n",
       "\n",
       "    .dataframe thead th {\n",
       "        text-align: right;\n",
       "    }\n",
       "</style>\n",
       "<table border=\"1\" class=\"dataframe\">\n",
       "  <thead>\n",
       "    <tr style=\"text-align: right;\">\n",
       "      <th></th>\n",
       "      <th>S.No</th>\n",
       "      <th>Parliament Constituency</th>\n",
       "      <th>Constituency Name</th>\n",
       "      <th>Winning Candidate</th>\n",
       "      <th>Total Votes</th>\n",
       "      <th>Margin</th>\n",
       "      <th>Constituency ID</th>\n",
       "      <th>Party ID</th>\n",
       "    </tr>\n",
       "  </thead>\n",
       "  <tbody>\n",
       "    <tr>\n",
       "      <th>237</th>\n",
       "      <td>240</td>\n",
       "      <td>JAMMU(5)</td>\n",
       "      <td>JAMMU</td>\n",
       "      <td>JUGAL KISHORE</td>\n",
       "      <td>687588</td>\n",
       "      <td>135498</td>\n",
       "      <td>U085</td>\n",
       "      <td>369</td>\n",
       "    </tr>\n",
       "  </tbody>\n",
       "</table>\n",
       "</div>"
      ],
      "text/plain": [
       "     S.No Parliament Constituency Constituency Name Winning Candidate  \\\n",
       "237   240                JAMMU(5)             JAMMU     JUGAL KISHORE   \n",
       "\n",
       "     Total Votes  Margin Constituency ID  Party ID  \n",
       "237       687588  135498            U085       369  "
      ]
     },
     "execution_count": 4,
     "metadata": {},
     "output_type": "execute_result"
    }
   ],
   "source": [
    "constituencywise_results.sample()"
   ]
  },
  {
   "cell_type": "code",
   "execution_count": 8,
   "id": "99d2ebab-e7c8-41db-97b2-3e985991ccb3",
   "metadata": {},
   "outputs": [
    {
     "data": {
      "text/html": [
       "<div>\n",
       "<style scoped>\n",
       "    .dataframe tbody tr th:only-of-type {\n",
       "        vertical-align: middle;\n",
       "    }\n",
       "\n",
       "    .dataframe tbody tr th {\n",
       "        vertical-align: top;\n",
       "    }\n",
       "\n",
       "    .dataframe thead th {\n",
       "        text-align: right;\n",
       "    }\n",
       "</style>\n",
       "<table border=\"1\" class=\"dataframe\">\n",
       "  <thead>\n",
       "    <tr style=\"text-align: right;\">\n",
       "      <th></th>\n",
       "      <th>State ID</th>\n",
       "      <th>State</th>\n",
       "    </tr>\n",
       "  </thead>\n",
       "  <tbody>\n",
       "    <tr>\n",
       "      <th>0</th>\n",
       "      <td>U01</td>\n",
       "      <td>Andaman &amp; Nicobar Islands</td>\n",
       "    </tr>\n",
       "    <tr>\n",
       "      <th>1</th>\n",
       "      <td>S01</td>\n",
       "      <td>Andhra Pradesh</td>\n",
       "    </tr>\n",
       "    <tr>\n",
       "      <th>2</th>\n",
       "      <td>S02</td>\n",
       "      <td>Arunachal Pradesh</td>\n",
       "    </tr>\n",
       "    <tr>\n",
       "      <th>3</th>\n",
       "      <td>S03</td>\n",
       "      <td>Assam</td>\n",
       "    </tr>\n",
       "    <tr>\n",
       "      <th>4</th>\n",
       "      <td>S04</td>\n",
       "      <td>Bihar</td>\n",
       "    </tr>\n",
       "  </tbody>\n",
       "</table>\n",
       "</div>"
      ],
      "text/plain": [
       "  State ID                      State\n",
       "0      U01  Andaman & Nicobar Islands\n",
       "1      S01             Andhra Pradesh\n",
       "2      S02          Arunachal Pradesh\n",
       "3      S03                      Assam\n",
       "4      S04                      Bihar"
      ]
     },
     "execution_count": 8,
     "metadata": {},
     "output_type": "execute_result"
    }
   ],
   "source": [
    "states.head()"
   ]
  },
  {
   "cell_type": "code",
   "execution_count": 9,
   "id": "2d6b3b2f-d245-4e1f-9460-70dbc32757b8",
   "metadata": {},
   "outputs": [
    {
     "data": {
      "text/html": [
       "<div>\n",
       "<style scoped>\n",
       "    .dataframe tbody tr th:only-of-type {\n",
       "        vertical-align: middle;\n",
       "    }\n",
       "\n",
       "    .dataframe tbody tr th {\n",
       "        vertical-align: top;\n",
       "    }\n",
       "\n",
       "    .dataframe thead th {\n",
       "        text-align: right;\n",
       "    }\n",
       "</style>\n",
       "<table border=\"1\" class=\"dataframe\">\n",
       "  <thead>\n",
       "    <tr style=\"text-align: right;\">\n",
       "      <th></th>\n",
       "      <th>Constituency</th>\n",
       "      <th>Const. No.</th>\n",
       "      <th>Parliament Constituency</th>\n",
       "      <th>Leading Candidate</th>\n",
       "      <th>Trailing Candidate</th>\n",
       "      <th>Margin</th>\n",
       "      <th>Status</th>\n",
       "      <th>State ID</th>\n",
       "      <th>State</th>\n",
       "    </tr>\n",
       "  </thead>\n",
       "  <tbody>\n",
       "    <tr>\n",
       "      <th>0</th>\n",
       "      <td>Surat</td>\n",
       "      <td>24</td>\n",
       "      <td>SURAT(24)</td>\n",
       "      <td>MUKESHKUMAR CHANDRAKAANT DALAL</td>\n",
       "      <td>NaN</td>\n",
       "      <td>0</td>\n",
       "      <td>Uncontested</td>\n",
       "      <td>S06</td>\n",
       "      <td>Gujarat</td>\n",
       "    </tr>\n",
       "    <tr>\n",
       "      <th>1</th>\n",
       "      <td>INDORE</td>\n",
       "      <td>26</td>\n",
       "      <td>INDORE(26)</td>\n",
       "      <td>SHANKAR LALWANI</td>\n",
       "      <td>SANJAY S/O LAKSHMAN SOLANKI</td>\n",
       "      <td>1175092</td>\n",
       "      <td>Result Declared</td>\n",
       "      <td>S12</td>\n",
       "      <td>Himachal Pradesh</td>\n",
       "    </tr>\n",
       "    <tr>\n",
       "      <th>2</th>\n",
       "      <td>Dhubri</td>\n",
       "      <td>2</td>\n",
       "      <td>DHUBRI(2)</td>\n",
       "      <td>RAKIBUL HUSSAIN</td>\n",
       "      <td>MOHAMMED BADRUDDIN AJMAL</td>\n",
       "      <td>1012476</td>\n",
       "      <td>Result Declared</td>\n",
       "      <td>S03</td>\n",
       "      <td>Assam</td>\n",
       "    </tr>\n",
       "    <tr>\n",
       "      <th>3</th>\n",
       "      <td>VIDISHA</td>\n",
       "      <td>18</td>\n",
       "      <td>VIDISHA(18)</td>\n",
       "      <td>SHIVRAJ SINGH CHOUHAN</td>\n",
       "      <td>PRATAPBHANU SHARMA</td>\n",
       "      <td>821408</td>\n",
       "      <td>Result Declared</td>\n",
       "      <td>S12</td>\n",
       "      <td>Himachal Pradesh</td>\n",
       "    </tr>\n",
       "    <tr>\n",
       "      <th>4</th>\n",
       "      <td>Navsari</td>\n",
       "      <td>25</td>\n",
       "      <td>NAVSARI(25)</td>\n",
       "      <td>C R PATIL</td>\n",
       "      <td>NAISHADHBHAI BHUPATBHAI  DESAI</td>\n",
       "      <td>773551</td>\n",
       "      <td>Result Declared</td>\n",
       "      <td>S06</td>\n",
       "      <td>Gujarat</td>\n",
       "    </tr>\n",
       "  </tbody>\n",
       "</table>\n",
       "</div>"
      ],
      "text/plain": [
       "  Constituency  Const. No. Parliament Constituency  \\\n",
       "0        Surat          24               SURAT(24)   \n",
       "1       INDORE          26              INDORE(26)   \n",
       "2       Dhubri           2               DHUBRI(2)   \n",
       "3      VIDISHA          18             VIDISHA(18)   \n",
       "4      Navsari          25             NAVSARI(25)   \n",
       "\n",
       "                Leading Candidate              Trailing Candidate   Margin  \\\n",
       "0  MUKESHKUMAR CHANDRAKAANT DALAL                             NaN        0   \n",
       "1                 SHANKAR LALWANI     SANJAY S/O LAKSHMAN SOLANKI  1175092   \n",
       "2                 RAKIBUL HUSSAIN        MOHAMMED BADRUDDIN AJMAL  1012476   \n",
       "3           SHIVRAJ SINGH CHOUHAN              PRATAPBHANU SHARMA   821408   \n",
       "4                       C R PATIL  NAISHADHBHAI BHUPATBHAI  DESAI   773551   \n",
       "\n",
       "            Status State ID             State  \n",
       "0      Uncontested      S06           Gujarat  \n",
       "1  Result Declared      S12  Himachal Pradesh  \n",
       "2  Result Declared      S03             Assam  \n",
       "3  Result Declared      S12  Himachal Pradesh  \n",
       "4  Result Declared      S06           Gujarat  "
      ]
     },
     "execution_count": 9,
     "metadata": {},
     "output_type": "execute_result"
    }
   ],
   "source": [
    "statewise_results.head()"
   ]
  },
  {
   "cell_type": "code",
   "execution_count": 18,
   "id": "31b1d0fa-5f12-498c-8953-f526855c1de7",
   "metadata": {},
   "outputs": [
    {
     "data": {
      "text/plain": [
       "<Axes: ylabel='State'>"
      ]
     },
     "execution_count": 18,
     "metadata": {},
     "output_type": "execute_result"
    },
    {
     "data": {
      "image/png": "[encoded data removed]",
      "text/plain": [
       "<Figure size 640x480 with 1 Axes>"
      ]
     },
     "metadata": {},
     "output_type": "display_data"
    }
   ],
   "source": [
    "statewise_results.groupby(\"State\")[\"Const. No.\"].sum().plot(kind=\"barh\")"
   ]
  },
  {
   "cell_type": "code",
   "execution_count": 16,
   "id": "391d5e5e-86d2-4c21-bedf-7d96dbf527f0",
   "metadata": {},
   "outputs": [
    {
     "data": {
      "text/plain": [
       "State\n",
       "Himachal Pradesh     416\n",
       "Bihar                 40\n",
       "Gujarat               26\n",
       "Andhra Pradesh        25\n",
       "Assam                 14\n",
       "Haryana               10\n",
       "West Bengal            6\n",
       "Goa                    2\n",
       "Arunachal Pradesh      2\n",
       "Puducherry             1\n",
       "Lakshadweep            1\n",
       "Name: count, dtype: int64"
      ]
     },
     "execution_count": 16,
     "metadata": {},
     "output_type": "execute_result"
    }
   ],
   "source": [
    "statewise_results[\"State\"].value_counts()"
   ]
  },
  {
   "cell_type": "code",
   "execution_count": 19,
   "id": "0af05c3e-925f-4c50-9a44-9f3a4219504d",
   "metadata": {},
   "outputs": [
    {
     "data": {
      "text/html": [
       "<div>\n",
       "<style scoped>\n",
       "    .dataframe tbody tr th:only-of-type {\n",
       "        vertical-align: middle;\n",
       "    }\n",
       "\n",
       "    .dataframe tbody tr th {\n",
       "        vertical-align: top;\n",
       "    }\n",
       "\n",
       "    .dataframe thead th {\n",
       "        text-align: right;\n",
       "    }\n",
       "</style>\n",
       "<table border=\"1\" class=\"dataframe\">\n",
       "  <thead>\n",
       "    <tr style=\"text-align: right;\">\n",
       "      <th></th>\n",
       "      <th>Constituency</th>\n",
       "      <th>Const. No.</th>\n",
       "      <th>Parliament Constituency</th>\n",
       "      <th>Leading Candidate</th>\n",
       "      <th>Trailing Candidate</th>\n",
       "      <th>Margin</th>\n",
       "      <th>Status</th>\n",
       "      <th>State ID</th>\n",
       "      <th>State</th>\n",
       "    </tr>\n",
       "  </thead>\n",
       "  <tbody>\n",
       "    <tr>\n",
       "      <th>537</th>\n",
       "      <td>Chandigarh</td>\n",
       "      <td>1</td>\n",
       "      <td>CHANDIGARH(1)</td>\n",
       "      <td>MANISH TEWARI</td>\n",
       "      <td>SANJAY TANDON</td>\n",
       "      <td>2504</td>\n",
       "      <td>Result Declared</td>\n",
       "      <td>U02</td>\n",
       "      <td>Himachal Pradesh</td>\n",
       "    </tr>\n",
       "    <tr>\n",
       "      <th>535</th>\n",
       "      <td>Lakshadweep</td>\n",
       "      <td>1</td>\n",
       "      <td>LAKSHADWEEP(1)</td>\n",
       "      <td>MUHAMMED HAMDULLAH SAYEED</td>\n",
       "      <td>MOHAMMED FAIZAL PP</td>\n",
       "      <td>2647</td>\n",
       "      <td>Result Declared</td>\n",
       "      <td>U06</td>\n",
       "      <td>Lakshadweep</td>\n",
       "    </tr>\n",
       "    <tr>\n",
       "      <th>487</th>\n",
       "      <td>Ladakh</td>\n",
       "      <td>1</td>\n",
       "      <td>LADAKH(1)</td>\n",
       "      <td>MOHMAD HANEEFA</td>\n",
       "      <td>TSERING NAMGYAL</td>\n",
       "      <td>27862</td>\n",
       "      <td>Result Declared</td>\n",
       "      <td>U09</td>\n",
       "      <td>West Bengal</td>\n",
       "    </tr>\n",
       "    <tr>\n",
       "      <th>493</th>\n",
       "      <td>Andaman &amp; Nicobar Islands</td>\n",
       "      <td>1</td>\n",
       "      <td>ANDAMAN&amp;NICOBARISLANDS(1)</td>\n",
       "      <td>BISHNU PADA RAY</td>\n",
       "      <td>KULDEEP RAI SHARMA</td>\n",
       "      <td>24396</td>\n",
       "      <td>Result Declared</td>\n",
       "      <td>U01</td>\n",
       "      <td>Himachal Pradesh</td>\n",
       "    </tr>\n",
       "    <tr>\n",
       "      <th>46</th>\n",
       "      <td>Shillong</td>\n",
       "      <td>1</td>\n",
       "      <td>SHILLONG(1)</td>\n",
       "      <td>DR. RICKY ANDREW J. SYNGKON</td>\n",
       "      <td>VINCENT H. PALA</td>\n",
       "      <td>371910</td>\n",
       "      <td>Result Declared</td>\n",
       "      <td>S15</td>\n",
       "      <td>Himachal Pradesh</td>\n",
       "    </tr>\n",
       "    <tr>\n",
       "      <th>...</th>\n",
       "      <td>...</td>\n",
       "      <td>...</td>\n",
       "      <td>...</td>\n",
       "      <td>...</td>\n",
       "      <td>...</td>\n",
       "      <td>...</td>\n",
       "      <td>...</td>\n",
       "      <td>...</td>\n",
       "      <td>...</td>\n",
       "    </tr>\n",
       "    <tr>\n",
       "      <th>497</th>\n",
       "      <td>Chandauli</td>\n",
       "      <td>76</td>\n",
       "      <td>CHANDAULI(76)</td>\n",
       "      <td>BIRENDRA SINGH</td>\n",
       "      <td>DR. MAHENDRA NATH  PANDEY</td>\n",
       "      <td>21565</td>\n",
       "      <td>Result Declared</td>\n",
       "      <td>S24</td>\n",
       "      <td>Himachal Pradesh</td>\n",
       "    </tr>\n",
       "    <tr>\n",
       "      <th>226</th>\n",
       "      <td>Varanasi</td>\n",
       "      <td>77</td>\n",
       "      <td>VARANASI(77)</td>\n",
       "      <td>NARENDRA MODI</td>\n",
       "      <td>AJAY RAI</td>\n",
       "      <td>152513</td>\n",
       "      <td>Result Declared</td>\n",
       "      <td>S24</td>\n",
       "      <td>Himachal Pradesh</td>\n",
       "    </tr>\n",
       "    <tr>\n",
       "      <th>442</th>\n",
       "      <td>Bhadohi</td>\n",
       "      <td>78</td>\n",
       "      <td>BHADOHI(78)</td>\n",
       "      <td>DR. VINOD KUMAR BIND</td>\n",
       "      <td>LALITESHPATI TRIPATHI</td>\n",
       "      <td>44072</td>\n",
       "      <td>Result Declared</td>\n",
       "      <td>S24</td>\n",
       "      <td>Himachal Pradesh</td>\n",
       "    </tr>\n",
       "    <tr>\n",
       "      <th>458</th>\n",
       "      <td>Mirzapur</td>\n",
       "      <td>79</td>\n",
       "      <td>MIRZAPUR(79)</td>\n",
       "      <td>ANUPRIYA PATEL</td>\n",
       "      <td>RAMESH CHAND BIND</td>\n",
       "      <td>37810</td>\n",
       "      <td>Result Declared</td>\n",
       "      <td>S24</td>\n",
       "      <td>Himachal Pradesh</td>\n",
       "    </tr>\n",
       "    <tr>\n",
       "      <th>263</th>\n",
       "      <td>Robertsganj</td>\n",
       "      <td>80</td>\n",
       "      <td>ROBERTSGANJ(80)</td>\n",
       "      <td>CHHOTELAL</td>\n",
       "      <td>RINKI SINGH</td>\n",
       "      <td>129234</td>\n",
       "      <td>Result Declared</td>\n",
       "      <td>S24</td>\n",
       "      <td>Himachal Pradesh</td>\n",
       "    </tr>\n",
       "  </tbody>\n",
       "</table>\n",
       "<p>543 rows × 9 columns</p>\n",
       "</div>"
      ],
      "text/plain": [
       "                  Constituency  Const. No.    Parliament Constituency  \\\n",
       "537                 Chandigarh           1              CHANDIGARH(1)   \n",
       "535                Lakshadweep           1             LAKSHADWEEP(1)   \n",
       "487                     Ladakh           1                  LADAKH(1)   \n",
       "493  Andaman & Nicobar Islands           1  ANDAMAN&NICOBARISLANDS(1)   \n",
       "46                    Shillong           1                SHILLONG(1)   \n",
       "..                         ...         ...                        ...   \n",
       "497                  Chandauli          76              CHANDAULI(76)   \n",
       "226                   Varanasi          77               VARANASI(77)   \n",
       "442                    Bhadohi          78                BHADOHI(78)   \n",
       "458                   Mirzapur          79               MIRZAPUR(79)   \n",
       "263                Robertsganj          80            ROBERTSGANJ(80)   \n",
       "\n",
       "               Leading Candidate         Trailing Candidate  Margin  \\\n",
       "537                MANISH TEWARI              SANJAY TANDON    2504   \n",
       "535    MUHAMMED HAMDULLAH SAYEED         MOHAMMED FAIZAL PP    2647   \n",
       "487               MOHMAD HANEEFA            TSERING NAMGYAL   27862   \n",
       "493              BISHNU PADA RAY         KULDEEP RAI SHARMA   24396   \n",
       "46   DR. RICKY ANDREW J. SYNGKON            VINCENT H. PALA  371910   \n",
       "..                           ...                        ...     ...   \n",
       "497               BIRENDRA SINGH  DR. MAHENDRA NATH  PANDEY   21565   \n",
       "226                NARENDRA MODI                   AJAY RAI  152513   \n",
       "442         DR. VINOD KUMAR BIND      LALITESHPATI TRIPATHI   44072   \n",
       "458               ANUPRIYA PATEL          RAMESH CHAND BIND   37810   \n",
       "263                    CHHOTELAL                RINKI SINGH  129234   \n",
       "\n",
       "              Status State ID             State  \n",
       "537  Result Declared      U02  Himachal Pradesh  \n",
       "535  Result Declared      U06       Lakshadweep  \n",
       "487  Result Declared      U09       West Bengal  \n",
       "493  Result Declared      U01  Himachal Pradesh  \n",
       "46   Result Declared      S15  Himachal Pradesh  \n",
       "..               ...      ...               ...  \n",
       "497  Result Declared      S24  Himachal Pradesh  \n",
       "226  Result Declared      S24  Himachal Pradesh  \n",
       "442  Result Declared      S24  Himachal Pradesh  \n",
       "458  Result Declared      S24  Himachal Pradesh  \n",
       "263  Result Declared      S24  Himachal Pradesh  \n",
       "\n",
       "[543 rows x 9 columns]"
      ]
     },
     "execution_count": 19,
     "metadata": {},
     "output_type": "execute_result"
    }
   ],
   "source": [
    "statewise_results.sort_values([\"Const. No.\"])"
   ]
  },
  {
   "cell_type": "code",
   "execution_count": 27,
   "id": "35d1a2d9-d850-4fde-8abb-e7eeb2ff4861",
   "metadata": {},
   "outputs": [
    {
     "data": {
      "text/plain": [
       "Const. No.    1.146485e+02\n",
       "Margin        2.205580e+06\n",
       "dtype: float64"
      ]
     },
     "execution_count": 27,
     "metadata": {},
     "output_type": "execute_result"
    }
   ],
   "source": [
    "statewise_results[statewise_results[\"State\"]==\"Gujarat\"].describe().sum()"
   ]
  },
  {
   "cell_type": "code",
   "execution_count": 37,
   "id": "e68dd220-a2c0-4943-9c86-ad598238abc8",
   "metadata": {},
   "outputs": [
    {
     "data": {
      "text/plain": [
       "0      6\n",
       "1     19\n",
       "2     15\n",
       "3      9\n",
       "4      3\n",
       "5      3\n",
       "6      6\n",
       "7     14\n",
       "8     19\n",
       "9     14\n",
       "10     3\n",
       "11     6\n",
       "12    10\n",
       "13     5\n",
       "14    10\n",
       "15    10\n",
       "16    18\n",
       "17     7\n",
       "18    14\n",
       "19     5\n",
       "dtype: int32"
      ]
     },
     "execution_count": 37,
     "metadata": {},
     "output_type": "execute_result"
    }
   ],
   "source": [
    "ind_score=pd.Series(np.random.randint(1,20,20))\n",
    "ind_score"
   ]
  },
  {
   "cell_type": "code",
   "execution_count": 38,
   "id": "8c488baa-7408-4bd5-bc2e-e318861a5e00",
   "metadata": {},
   "outputs": [
    {
     "data": {
      "text/plain": [
       "0     15\n",
       "1      5\n",
       "2      5\n",
       "3     17\n",
       "4      3\n",
       "5      6\n",
       "6     12\n",
       "7     16\n",
       "8     12\n",
       "9      7\n",
       "10    12\n",
       "11    10\n",
       "12    18\n",
       "13    16\n",
       "14     8\n",
       "15     4\n",
       "16    11\n",
       "17     9\n",
       "18    17\n",
       "19    14\n",
       "dtype: int32"
      ]
     },
     "execution_count": 38,
     "metadata": {},
     "output_type": "execute_result"
    }
   ],
   "source": [
    "aus_score=pd.Series(np.random.randint(1,20,20))\n",
    "aus_score"
   ]
  },
  {
   "cell_type": "code",
   "execution_count": 40,
   "id": "83ad5be9-c0c2-469b-92f1-169b1db13702",
   "metadata": {},
   "outputs": [],
   "source": [
    "cum_sum_ind=np.cumsum(ind_score)\n",
    "cum_sum_aus=np.cumsum(aus_score)"
   ]
  },
  {
   "cell_type": "code",
   "execution_count": 41,
   "id": "c642e8de-3e22-4a76-8805-307cfcad3a18",
   "metadata": {},
   "outputs": [
    {
     "data": {
      "text/plain": [
       "0      15\n",
       "1      20\n",
       "2      25\n",
       "3      42\n",
       "4      45\n",
       "5      51\n",
       "6      63\n",
       "7      79\n",
       "8      91\n",
       "9      98\n",
       "10    110\n",
       "11    120\n",
       "12    138\n",
       "13    154\n",
       "14    162\n",
       "15    166\n",
       "16    177\n",
       "17    186\n",
       "18    203\n",
       "19    217\n",
       "dtype: int64"
      ]
     },
     "execution_count": 41,
     "metadata": {},
     "output_type": "execute_result"
    }
   ],
   "source": [
    "cum_sum_aus"
   ]
  },
  {
   "cell_type": "code",
   "execution_count": 42,
   "id": "b19d10c8-7eae-4640-8c33-c010a112e1fe",
   "metadata": {},
   "outputs": [
    {
     "data": {
      "text/plain": [
       "0       6\n",
       "1      25\n",
       "2      40\n",
       "3      49\n",
       "4      52\n",
       "5      55\n",
       "6      61\n",
       "7      75\n",
       "8      94\n",
       "9     108\n",
       "10    111\n",
       "11    117\n",
       "12    127\n",
       "13    132\n",
       "14    142\n",
       "15    152\n",
       "16    170\n",
       "17    177\n",
       "18    191\n",
       "19    196\n",
       "dtype: int64"
      ]
     },
     "execution_count": 42,
     "metadata": {},
     "output_type": "execute_result"
    }
   ],
   "source": [
    "cum_sum_ind"
   ]
  },
  {
   "cell_type": "code",
   "execution_count": 54,
   "id": "824d0648-bb70-4991-a0fa-0af387012e9a",
   "metadata": {},
   "outputs": [],
   "source": [
    "ind_wickets=np.array([[1,6],[4,49],[5,52],[8,75],[11,111],[12,117],[15,142],[16,152],[19,191]])\n",
    "aus_wickets=np.array([[5,45],[10,98],[13,138],[16,166],[19,203]])"
   ]
  },
  {
   "cell_type": "code",
   "execution_count": 65,
   "id": "afc7b15f-234a-483d-9d36-a5509c81a7a3",
   "metadata": {},
   "outputs": [
    {
     "data": {
      "image/png": "[encoded data removed]",
      "text/plain": [
       "<Figure size 1200x400 with 1 Axes>"
      ]
     },
     "metadata": {},
     "output_type": "display_data"
    }
   ],
   "source": [
    "plt.figure(figsize=(12,4))\n",
    "plt.plot(range(1,21),cum_sum_aus,label=\"AUS\",color=\"green\")\n",
    "plt.plot(range(1,21),cum_sum_ind,label=\"IND\",color=\"blue\")\n",
    "plt.scatter(ind_wickets[:,0],ind_wickets[:,1],color=\"darkblue\")\n",
    "plt.scatter(aus_wickets[:,0],aus_wickets[:,1],color=\"darkgreen\")\n",
    "plt.bar(range(1,21),cum_sum_aus,alpha=0.3)\n",
    "plt.bar(range(1,21),cum_sum_ind,alpha=0.3)\n",
    "plt.xticks(range(1,21))\n",
    "plt.yticks(range(0,225,25))\n",
    "plt.legend()\n",
    "plt.xlabel(\"Overs\")\n",
    "plt.ylabel(\"Score\")\n",
    "plt.grid(axis=\"y\")\n",
    "plt.show()"
   ]
  },
  {
   "cell_type": "code",
   "execution_count": 68,
   "id": "f1aca0e3-e0c1-4b0b-bf7f-eab678b59172",
   "metadata": {},
   "outputs": [],
   "source": [
    "ind_score=pd.Series(np.random.randint(1,25,20))\n",
    "aus_score=pd.Series(np.random.randint(1,25,20))"
   ]
  },
  {
   "cell_type": "code",
   "execution_count": 72,
   "id": "13e23c21-1ec6-4590-975e-5520d8dafb5e",
   "metadata": {
    "scrolled": true
   },
   "outputs": [],
   "source": [
    "cum_sum_ind=np.cumsum(ind_score)\n",
    "cum_sum_aus=np.cumsum(aus_score)"
   ]
  },
  {
   "cell_type": "code",
   "execution_count": 76,
   "id": "fdd90cf8-fb3f-43c1-ad94-872627907ec9",
   "metadata": {},
   "outputs": [],
   "source": [
    "ind_wickets=np.array([[4,49],[7,100],[10,150],[14,225],[17,259]])\n",
    "aus_wickets=np.array([[1,24],[5,99],[6,109],[9,139],[12,190],[14,226],[15,236],[18,243]])"
   ]
  },
  {
   "cell_type": "code",
   "execution_count": 93,
   "id": "0b2dc26d-aa56-4041-8f52-6699708a6b71",
   "metadata": {},
   "outputs": [
    {
     "data": {
      "image/png": "[encoded data removed]",
      "text/plain": [
       "<Figure size 1200x500 with 1 Axes>"
      ]
     },
     "metadata": {},
     "output_type": "display_data"
    }
   ],
   "source": [
    "plt.figure(figsize=(12,5))\n",
    "plt.plot(range(1,21),cum_sum_ind,label=\"IND\")\n",
    "plt.plot(range(1,21),cum_sum_aus,label=\"AUS\")\n",
    "plt.scatter(ind_wickets[:,0],ind_wickets[:,1],marker=\"o\")\n",
    "plt.scatter(aus_wickets[:,0],aus_wickets[:,1],marker=\"o\")\n",
    "plt.bar(range(1,21),cum_sum_aus,alpha=0.3)\n",
    "plt.bar(range(1,21),cum_sum_ind,alpha=0.3)\n",
    "plt.legend()\n",
    "plt.xticks(range(1,21))\n",
    "plt.yticks(range(0,300,25))\n",
    "plt.show()\n"
   ]
  },
  {
   "cell_type": "code",
   "execution_count": 74,
   "id": "5fa9503d-c7fe-4945-a0e3-26c8b0a026d6",
   "metadata": {},
   "outputs": [
    {
     "data": {
      "text/plain": [
       "0      24\n",
       "1      37\n",
       "2      61\n",
       "3      76\n",
       "4      99\n",
       "5     109\n",
       "6     116\n",
       "7     117\n",
       "8     139\n",
       "9     144\n",
       "10    168\n",
       "11    190\n",
       "12    203\n",
       "13    226\n",
       "14    236\n",
       "15    237\n",
       "16    242\n",
       "17    243\n",
       "18    259\n",
       "19    270\n",
       "dtype: int64"
      ]
     },
     "execution_count": 74,
     "metadata": {},
     "output_type": "execute_result"
    }
   ],
   "source": [
    "cum_sum_aus"
   ]
  },
  {
   "cell_type": "code",
   "execution_count": null,
   "id": "bcbd6573-0a30-4693-ba30-044d80f98fe9",
   "metadata": {},
   "outputs": [],
   "source": []
  }
 ],
 "metadata": {
  "kernelspec": {
   "display_name": "Python 3 (ipykernel)",
   "language": "python",
   "name": "python3"
  },
  "language_info": {
   "codemirror_mode": {
    "name": "ipython",
    "version": 3
   },
   "file_extension": ".py",
   "mimetype": "text/x-python",
   "name": "python",
   "nbconvert_exporter": "python",
   "pygments_lexer": "ipython3",
   "version": "3.11.9"
  }
 },
 "nbformat": 4,
 "nbformat_minor": 5
}
