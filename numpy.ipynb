{
 "cells": [
  {
   "cell_type": "code",
   "execution_count": 1,
   "id": "0c5d64d8-c113-4d38-b6d1-72bedcab17ff",
   "metadata": {},
   "outputs": [],
   "source": [
    "# Array Creation"
   ]
  },
  {
   "cell_type": "code",
   "execution_count": 2,
   "id": "adc17baa-cd3a-483d-9227-918f81efda68",
   "metadata": {},
   "outputs": [],
   "source": [
    "import numpy as np"
   ]
  },
  {
   "cell_type": "code",
   "execution_count": 3,
   "id": "9ca4c27d-bcb3-4706-9e7f-2213f267c008",
   "metadata": {},
   "outputs": [],
   "source": [
    "ls=[5,9,2,1,7,8]"
   ]
  },
  {
   "cell_type": "code",
   "execution_count": 4,
   "id": "8c85337b-0989-437d-9593-be055ed9d828",
   "metadata": {},
   "outputs": [
    {
     "data": {
      "text/plain": [
       "array([5, 9, 2, 1, 7, 8])"
      ]
     },
     "execution_count": 4,
     "metadata": {},
     "output_type": "execute_result"
    }
   ],
   "source": [
    "arr1=np.array(ls)\n",
    "arr1"
   ]
  },
  {
   "cell_type": "code",
   "execution_count": 5,
   "id": "c29a2198-19fb-4214-a17c-0c9f32d4ffd9",
   "metadata": {},
   "outputs": [
    {
     "data": {
      "text/plain": [
       "array([7, 2, 4, 5, 1, 3])"
      ]
     },
     "execution_count": 5,
     "metadata": {},
     "output_type": "execute_result"
    }
   ],
   "source": [
    "arr2=np.array([7,2,4,5,1,3])\n",
    "arr2"
   ]
  },
  {
   "cell_type": "code",
   "execution_count": 6,
   "id": "252730a2-d0a8-4139-a7cd-31aeeac0a7cd",
   "metadata": {},
   "outputs": [
    {
     "data": {
      "text/plain": [
       "array(['Ram', 'Shyam', 'Sita', 'Gita'], dtype='<U5')"
      ]
     },
     "execution_count": 6,
     "metadata": {},
     "output_type": "execute_result"
    }
   ],
   "source": [
    "arr3=np.array((\"Ram\",\"Shyam\",\"Sita\",\"Gita\"))\n",
    "arr3"
   ]
  },
  {
   "cell_type": "code",
   "execution_count": 7,
   "id": "bea23f49-2dd4-4cfb-908d-394802c2259e",
   "metadata": {},
   "outputs": [
    {
     "data": {
      "text/plain": [
       "array([0, 1, 2, 3, 4, 5, 6, 7, 8, 9])"
      ]
     },
     "execution_count": 7,
     "metadata": {},
     "output_type": "execute_result"
    }
   ],
   "source": [
    "arr4=np.arange(10)\n",
    "arr4"
   ]
  },
  {
   "cell_type": "code",
   "execution_count": 8,
   "id": "d1f83587-b132-4f35-b7de-234342bc0984",
   "metadata": {},
   "outputs": [
    {
     "data": {
      "text/plain": [
       "array([ 5,  8, 11, 14, 17])"
      ]
     },
     "execution_count": 8,
     "metadata": {},
     "output_type": "execute_result"
    }
   ],
   "source": [
    "arr5=np.arange(5,19,3)\n",
    "arr5"
   ]
  },
  {
   "cell_type": "code",
   "execution_count": 9,
   "id": "67d636b0-7908-4bf7-a314-0454a584eafc",
   "metadata": {},
   "outputs": [
    {
     "data": {
      "text/plain": [
       "array([ 1.    ,  1.5625,  2.125 ,  2.6875,  3.25  ,  3.8125,  4.375 ,\n",
       "        4.9375,  5.5   ,  6.0625,  6.625 ,  7.1875,  7.75  ,  8.3125,\n",
       "        8.875 ,  9.4375, 10.    ])"
      ]
     },
     "execution_count": 9,
     "metadata": {},
     "output_type": "execute_result"
    }
   ],
   "source": [
    "arr6=np.linspace(1,10,17)\n",
    "arr6"
   ]
  },
  {
   "cell_type": "code",
   "execution_count": 10,
   "id": "0a2f8cdc-557b-40b6-9958-e9d0abdfe5f5",
   "metadata": {},
   "outputs": [
    {
     "data": {
      "text/plain": [
       "array([-4.   , -3.125, -2.25 , -1.375, -0.5  ,  0.375,  1.25 ,  2.125,\n",
       "        3.   ])"
      ]
     },
     "execution_count": 10,
     "metadata": {},
     "output_type": "execute_result"
    }
   ],
   "source": [
    "arr7=np.linspace(-4,3,9)\n",
    "arr7"
   ]
  },
  {
   "cell_type": "code",
   "execution_count": 11,
   "id": "b2577c35-0137-4622-b5a8-c04d2a723273",
   "metadata": {},
   "outputs": [],
   "source": [
    "# Array Information"
   ]
  },
  {
   "cell_type": "code",
   "execution_count": 12,
   "id": "e898f7c0-6bb9-4c5f-8482-72d78a082e4d",
   "metadata": {},
   "outputs": [
    {
     "data": {
      "text/plain": [
       "dtype('float64')"
      ]
     },
     "execution_count": 12,
     "metadata": {},
     "output_type": "execute_result"
    }
   ],
   "source": [
    "arr7.dtype"
   ]
  },
  {
   "cell_type": "code",
   "execution_count": 13,
   "id": "e88bacb3-b2fa-4e43-9300-c340ca3bb9d7",
   "metadata": {},
   "outputs": [
    {
     "data": {
      "text/plain": [
       "dtype('<U5')"
      ]
     },
     "execution_count": 13,
     "metadata": {},
     "output_type": "execute_result"
    }
   ],
   "source": [
    "arr3.dtype"
   ]
  },
  {
   "cell_type": "code",
   "execution_count": 14,
   "id": "1764fce5-3f75-4572-a8bb-5b5c46d753eb",
   "metadata": {},
   "outputs": [
    {
     "data": {
      "text/plain": [
       "(6,)"
      ]
     },
     "execution_count": 14,
     "metadata": {},
     "output_type": "execute_result"
    }
   ],
   "source": [
    "arr2.shape"
   ]
  },
  {
   "cell_type": "code",
   "execution_count": 15,
   "id": "f24148c5-0986-4d31-8e91-5d96dfff4580",
   "metadata": {},
   "outputs": [
    {
     "data": {
      "text/plain": [
       "(17,)"
      ]
     },
     "execution_count": 15,
     "metadata": {},
     "output_type": "execute_result"
    }
   ],
   "source": [
    "arr6.shape"
   ]
  },
  {
   "cell_type": "code",
   "execution_count": 16,
   "id": "94783583-0863-42c8-a013-d7b5a86963ed",
   "metadata": {},
   "outputs": [
    {
     "data": {
      "text/plain": [
       "17"
      ]
     },
     "execution_count": 16,
     "metadata": {},
     "output_type": "execute_result"
    }
   ],
   "source": [
    "arr6.size"
   ]
  },
  {
   "cell_type": "code",
   "execution_count": 17,
   "id": "e4b5245b-0f23-428d-9d8b-1a7fb5994e0e",
   "metadata": {},
   "outputs": [],
   "source": [
    "# Randon function in Python"
   ]
  },
  {
   "cell_type": "code",
   "execution_count": 18,
   "id": "14f31d60-cc4f-4469-8d74-8ab650da7481",
   "metadata": {},
   "outputs": [
    {
     "data": {
      "text/plain": [
       "0.5398205181059201"
      ]
     },
     "execution_count": 18,
     "metadata": {},
     "output_type": "execute_result"
    }
   ],
   "source": [
    "arr8=np.random.rand()\n",
    "arr8"
   ]
  },
  {
   "cell_type": "code",
   "execution_count": 19,
   "id": "a0a8de2b-8903-49b9-89ac-083f5e097780",
   "metadata": {},
   "outputs": [
    {
     "data": {
      "text/plain": [
       "array([0.25968739, 0.81502251, 0.91191893, 0.42111041, 0.60404593,\n",
       "       0.11477823, 0.49669407, 0.62766992, 0.21820134, 0.80717749,\n",
       "       0.00442221, 0.47044134, 0.67023879, 0.35880842, 0.86525792])"
      ]
     },
     "execution_count": 19,
     "metadata": {},
     "output_type": "execute_result"
    }
   ],
   "source": [
    "arr9=np.random.rand(15)\n",
    "arr9"
   ]
  },
  {
   "cell_type": "code",
   "execution_count": 20,
   "id": "dbbf0971-54c9-4bab-89cf-adda4fcf4ac4",
   "metadata": {},
   "outputs": [
    {
     "data": {
      "text/plain": [
       "-1.1104710769906103"
      ]
     },
     "execution_count": 20,
     "metadata": {},
     "output_type": "execute_result"
    }
   ],
   "source": [
    "arr10=np.random.randn()\n",
    "arr10"
   ]
  },
  {
   "cell_type": "code",
   "execution_count": 21,
   "id": "11fa3078-d62a-4d45-abf8-2c8fea204a06",
   "metadata": {},
   "outputs": [
    {
     "data": {
      "text/plain": [
       "array([0.92567271, 0.819576  , 0.50428081, 0.92010488, 0.30796492,\n",
       "       0.43228738, 0.56451706, 0.50005694, 0.56641152, 0.01121101,\n",
       "       0.30048082, 0.74038599, 0.57600747, 0.34658247, 0.83179521])"
      ]
     },
     "execution_count": 21,
     "metadata": {},
     "output_type": "execute_result"
    }
   ],
   "source": [
    "arr10=np.random.rand(15)\n",
    "arr10"
   ]
  },
  {
   "cell_type": "code",
   "execution_count": 22,
   "id": "da895309-22ea-45d9-baeb-51c040c2662b",
   "metadata": {},
   "outputs": [
    {
     "data": {
      "text/plain": [
       "22"
      ]
     },
     "execution_count": 22,
     "metadata": {},
     "output_type": "execute_result"
    }
   ],
   "source": [
    "arr11=np.random.randint(30)\n",
    "arr11"
   ]
  },
  {
   "cell_type": "code",
   "execution_count": 23,
   "id": "40abbaec-d642-40f2-ae2a-314229fbcf77",
   "metadata": {},
   "outputs": [
    {
     "data": {
      "text/plain": [
       "4"
      ]
     },
     "execution_count": 23,
     "metadata": {},
     "output_type": "execute_result"
    }
   ],
   "source": [
    "arr11=np.random.randint(4,9)\n",
    "arr11"
   ]
  },
  {
   "cell_type": "code",
   "execution_count": 24,
   "id": "5d802a3a-bf36-400b-af82-9ce74b95e5f4",
   "metadata": {},
   "outputs": [
    {
     "data": {
      "text/plain": [
       "array([45, 33, 44, 25, 16, 33, 42, 20, 23, 30], dtype=int32)"
      ]
     },
     "execution_count": 24,
     "metadata": {},
     "output_type": "execute_result"
    }
   ],
   "source": [
    "arr11=np.random.randint(12,60,10)\n",
    "arr11"
   ]
  },
  {
   "cell_type": "code",
   "execution_count": 25,
   "id": "e9261dde-ed77-4f6e-8833-97b257d4a0c1",
   "metadata": {},
   "outputs": [
    {
     "data": {
      "text/plain": [
       "array([161.75923571, 162.18091487, 157.51715693, 172.07844343,\n",
       "       163.43119242, 169.00133896, 161.46296303, 160.47218014,\n",
       "       158.58230076, 161.76092935, 161.25129904, 162.85792564,\n",
       "       173.23314473, 172.03379363, 172.16332497, 163.95410266,\n",
       "       169.95728295, 164.28584628, 151.4088301 , 159.30422973,\n",
       "       178.61631748, 165.93850219, 163.80568827, 184.68467718,\n",
       "       164.50520509, 176.23574314, 156.65468676, 172.3601801 ,\n",
       "       168.11421442, 162.13688212, 164.30789179, 148.59287089,\n",
       "       170.91053814, 164.85225679, 169.2443667 , 163.22869712,\n",
       "       151.5615604 , 155.21688465, 165.50964665, 164.97077242,\n",
       "       172.09698827, 153.95595539, 170.3120344 , 148.55742608,\n",
       "       164.37837314, 161.60500285, 156.57159761, 177.56755086,\n",
       "       164.05859702, 174.41835965, 158.87905483, 161.58889988,\n",
       "       168.25835461, 171.38028283, 153.96616087, 175.84520425,\n",
       "       176.78405594, 159.97033093, 168.10448209, 158.56530713,\n",
       "       174.24523649, 159.01942555, 161.25976422, 169.20760277,\n",
       "       177.65639547, 181.32446688, 166.38417806, 157.38252797,\n",
       "       148.77207492, 153.66383317, 175.65082326, 169.97020192,\n",
       "       157.44368281, 176.5128693 , 172.19967235, 156.64968622,\n",
       "       162.98248596, 163.26208161, 165.78848811, 170.24962692,\n",
       "       164.92391054, 166.29822055, 165.69467672, 169.42970996,\n",
       "       176.26422771, 145.03491588, 153.71824408, 182.07670451,\n",
       "       163.29091508, 157.36422062, 157.46928265, 150.18750594,\n",
       "       159.28590078, 150.77497082, 175.20722851, 178.16729689,\n",
       "       163.58460436, 173.72736983, 156.93399157, 168.00491695])"
      ]
     },
     "execution_count": 25,
     "metadata": {},
     "output_type": "execute_result"
    }
   ],
   "source": [
    "avg_height=165\n",
    "std_height=9\n",
    "\n",
    "height_100_people=np.random.normal(avg_height,std_height,100)\n",
    "height_100_people"
   ]
  },
  {
   "cell_type": "code",
   "execution_count": 26,
   "id": "e5183765-4a35-4280-b622-c4502a0d466d",
   "metadata": {},
   "outputs": [
    {
     "data": {
      "text/plain": [
       "array([1, 2, 0, 2, 1, 1, 0, 2, 2, 3, 1, 0, 2, 1, 5, 1, 1, 2, 2, 2],\n",
       "      dtype=int32)"
      ]
     },
     "execution_count": 26,
     "metadata": {},
     "output_type": "execute_result"
    }
   ],
   "source": [
    "# Finding how many time 5 will occur on top of the dice if dice rolls 10 times\n",
    "\n",
    "five_on_top=np.random.binomial(10,(1/6),20)\n",
    "five_on_top"
   ]
  },
  {
   "cell_type": "code",
   "execution_count": 27,
   "id": "86a4c4fb-1320-4fb3-9f71-36c4e1c09fc0",
   "metadata": {},
   "outputs": [
    {
     "data": {
      "text/plain": [
       "array([0, 1, 1, 1, 1], dtype=int32)"
      ]
     },
     "execution_count": 27,
     "metadata": {},
     "output_type": "execute_result"
    }
   ],
   "source": [
    "#  finding how many time head(1) will occur while tossing a coin in 5 iteration\n",
    "\n",
    "head_on_top=np.random.binomial(1,(1/2),5)\n",
    "head_on_top"
   ]
  },
  {
   "cell_type": "code",
   "execution_count": 28,
   "id": "d49f5a21-ba42-46e4-9459-9826fc67cb00",
   "metadata": {},
   "outputs": [
    {
     "data": {
      "text/plain": [
       "array(['Ram', 'Shyam', 'Sita', 'Gita'], dtype='<U5')"
      ]
     },
     "execution_count": 28,
     "metadata": {},
     "output_type": "execute_result"
    }
   ],
   "source": [
    "arr3"
   ]
  },
  {
   "cell_type": "code",
   "execution_count": 29,
   "id": "e026da1c-0bf2-4778-b299-a1b0ea6e80d6",
   "metadata": {},
   "outputs": [
    {
     "data": {
      "text/plain": [
       "array(['Ram', 'Sita', 'Shyam'], dtype='<U5')"
      ]
     },
     "execution_count": 29,
     "metadata": {},
     "output_type": "execute_result"
    }
   ],
   "source": [
    "random_name=np.random.choice(arr3,3)\n",
    "random_name"
   ]
  },
  {
   "cell_type": "code",
   "execution_count": 30,
   "id": "f828308b-51a1-470b-b54d-e289a98e4a71",
   "metadata": {},
   "outputs": [],
   "source": [
    "# array resize and reshape"
   ]
  },
  {
   "cell_type": "code",
   "execution_count": 31,
   "id": "da037593-2291-49a3-a509-e4db2eebe8fb",
   "metadata": {},
   "outputs": [
    {
     "data": {
      "text/plain": [
       "array([14,  4,  8,  7,  9,  5,  9,  4,  9,  5,  5, 11, 13, 12, 11, 12, 13,\n",
       "       12, 10, 14,  6, 12, 13, 12], dtype=int32)"
      ]
     },
     "execution_count": 31,
     "metadata": {},
     "output_type": "execute_result"
    }
   ],
   "source": [
    "arr14=np.random.randint(4,15,24)\n",
    "arr14"
   ]
  },
  {
   "cell_type": "code",
   "execution_count": 32,
   "id": "bda7bd1f-d15b-4638-8062-82515f404fa1",
   "metadata": {},
   "outputs": [
    {
     "data": {
      "text/plain": [
       "(24,)"
      ]
     },
     "execution_count": 32,
     "metadata": {},
     "output_type": "execute_result"
    }
   ],
   "source": [
    "arr14.shape"
   ]
  },
  {
   "cell_type": "code",
   "execution_count": 33,
   "id": "d6cd0168-c39f-4011-8dc3-5d5f937adaff",
   "metadata": {},
   "outputs": [
    {
     "data": {
      "text/plain": [
       "array([[14,  4,  8,  7],\n",
       "       [ 9,  5,  9,  4],\n",
       "       [ 9,  5,  5, 11],\n",
       "       [13, 12, 11, 12],\n",
       "       [13, 12, 10, 14],\n",
       "       [ 6, 12, 13, 12]], dtype=int32)"
      ]
     },
     "execution_count": 33,
     "metadata": {},
     "output_type": "execute_result"
    }
   ],
   "source": [
    "arr14.reshape(6,4)"
   ]
  },
  {
   "cell_type": "code",
   "execution_count": 34,
   "id": "3102889f-2dec-4c3b-9b41-f4b5c8210aa1",
   "metadata": {},
   "outputs": [
    {
     "data": {
      "text/plain": [
       "array([[14,  4,  8,  7,  9,  5,  9,  4],\n",
       "       [ 9,  5,  5, 11, 13, 12, 11, 12],\n",
       "       [13, 12, 10, 14,  6, 12, 13, 12]], dtype=int32)"
      ]
     },
     "execution_count": 34,
     "metadata": {},
     "output_type": "execute_result"
    }
   ],
   "source": [
    "arr14.reshape(3,8)"
   ]
  },
  {
   "cell_type": "code",
   "execution_count": 35,
   "id": "42ac304f-a1eb-417a-b552-1f180cfa6150",
   "metadata": {},
   "outputs": [
    {
     "data": {
      "text/plain": [
       "array([[[14,  4],\n",
       "        [ 8,  7],\n",
       "        [ 9,  5]],\n",
       "\n",
       "       [[ 9,  4],\n",
       "        [ 9,  5],\n",
       "        [ 5, 11]],\n",
       "\n",
       "       [[13, 12],\n",
       "        [11, 12],\n",
       "        [13, 12]],\n",
       "\n",
       "       [[10, 14],\n",
       "        [ 6, 12],\n",
       "        [13, 12]]], dtype=int32)"
      ]
     },
     "execution_count": 35,
     "metadata": {},
     "output_type": "execute_result"
    }
   ],
   "source": [
    "arr14.reshape(4,3,2)"
   ]
  },
  {
   "cell_type": "code",
   "execution_count": 36,
   "id": "57b32d94-7df7-47dd-afd3-65880d5844c2",
   "metadata": {},
   "outputs": [
    {
     "data": {
      "text/plain": [
       "array([[[[14,  4],\n",
       "         [ 8,  7],\n",
       "         [ 9,  5]],\n",
       "\n",
       "        [[ 9,  4],\n",
       "         [ 9,  5],\n",
       "         [ 5, 11]]],\n",
       "\n",
       "\n",
       "       [[[13, 12],\n",
       "         [11, 12],\n",
       "         [13, 12]],\n",
       "\n",
       "        [[10, 14],\n",
       "         [ 6, 12],\n",
       "         [13, 12]]]], dtype=int32)"
      ]
     },
     "execution_count": 36,
     "metadata": {},
     "output_type": "execute_result"
    }
   ],
   "source": [
    "arr14.reshape(2,2,3,2)"
   ]
  },
  {
   "cell_type": "code",
   "execution_count": 37,
   "id": "62b5a7b5-6307-4f88-b57c-0416bf180c92",
   "metadata": {},
   "outputs": [
    {
     "data": {
      "text/plain": [
       "array([14,  4,  8,  7,  9,  5,  9,  4,  9,  5,  5, 11, 13, 12, 11, 12, 13,\n",
       "       12, 10, 14,  6, 12, 13, 12], dtype=int32)"
      ]
     },
     "execution_count": 37,
     "metadata": {},
     "output_type": "execute_result"
    }
   ],
   "source": [
    "arr14"
   ]
  },
  {
   "cell_type": "code",
   "execution_count": 38,
   "id": "950e9b36-dd17-4bbd-b3c7-98d12225d622",
   "metadata": {},
   "outputs": [],
   "source": [
    "arr14.resize(4,6)"
   ]
  },
  {
   "cell_type": "code",
   "execution_count": 39,
   "id": "42bafc9c-0d83-4c48-952a-131efa36431b",
   "metadata": {},
   "outputs": [
    {
     "data": {
      "text/plain": [
       "array([[14,  4,  8,  7,  9,  5],\n",
       "       [ 9,  4,  9,  5,  5, 11],\n",
       "       [13, 12, 11, 12, 13, 12],\n",
       "       [10, 14,  6, 12, 13, 12]], dtype=int32)"
      ]
     },
     "execution_count": 39,
     "metadata": {},
     "output_type": "execute_result"
    }
   ],
   "source": [
    "arr14"
   ]
  },
  {
   "cell_type": "code",
   "execution_count": 40,
   "id": "3913aa38-7e2e-4b32-8fdc-54348a7493dd",
   "metadata": {},
   "outputs": [],
   "source": [
    "arr14.resize(3,8)"
   ]
  },
  {
   "cell_type": "code",
   "execution_count": 41,
   "id": "c2e66db5-9f7b-408e-8581-a6218788a1d8",
   "metadata": {},
   "outputs": [
    {
     "data": {
      "text/plain": [
       "array([[14,  4,  8,  7,  9,  5,  9,  4],\n",
       "       [ 9,  5,  5, 11, 13, 12, 11, 12],\n",
       "       [13, 12, 10, 14,  6, 12, 13, 12]], dtype=int32)"
      ]
     },
     "execution_count": 41,
     "metadata": {},
     "output_type": "execute_result"
    }
   ],
   "source": [
    "arr14"
   ]
  },
  {
   "cell_type": "code",
   "execution_count": 42,
   "id": "e721a070-25e9-4f7b-a3f8-339e25526498",
   "metadata": {},
   "outputs": [
    {
     "data": {
      "text/plain": [
       "(3, 8)"
      ]
     },
     "execution_count": 42,
     "metadata": {},
     "output_type": "execute_result"
    }
   ],
   "source": [
    "arr14.shape"
   ]
  },
  {
   "cell_type": "code",
   "execution_count": 43,
   "id": "d145db11-21e6-468b-bed6-fa415285a86e",
   "metadata": {},
   "outputs": [
    {
     "data": {
      "text/plain": [
       "24"
      ]
     },
     "execution_count": 43,
     "metadata": {},
     "output_type": "execute_result"
    }
   ],
   "source": [
    "arr14.size"
   ]
  },
  {
   "cell_type": "code",
   "execution_count": 44,
   "id": "be8945b2-4664-4405-aecd-16b71fa4f3f8",
   "metadata": {},
   "outputs": [],
   "source": [
    "arr14.resize(3,2,2,2)"
   ]
  },
  {
   "cell_type": "code",
   "execution_count": 45,
   "id": "9555e342-14ad-4715-a7e4-0c89e8684060",
   "metadata": {},
   "outputs": [
    {
     "data": {
      "text/plain": [
       "array([[[[14,  4],\n",
       "         [ 8,  7]],\n",
       "\n",
       "        [[ 9,  5],\n",
       "         [ 9,  4]]],\n",
       "\n",
       "\n",
       "       [[[ 9,  5],\n",
       "         [ 5, 11]],\n",
       "\n",
       "        [[13, 12],\n",
       "         [11, 12]]],\n",
       "\n",
       "\n",
       "       [[[13, 12],\n",
       "         [10, 14]],\n",
       "\n",
       "        [[ 6, 12],\n",
       "         [13, 12]]]], dtype=int32)"
      ]
     },
     "execution_count": 45,
     "metadata": {},
     "output_type": "execute_result"
    }
   ],
   "source": [
    "arr14"
   ]
  },
  {
   "cell_type": "code",
   "execution_count": 46,
   "id": "a4bbe3e0-eec4-4e62-8390-c17e5cdec243",
   "metadata": {},
   "outputs": [
    {
     "data": {
      "text/plain": [
       "(3, 2, 2, 2)"
      ]
     },
     "execution_count": 46,
     "metadata": {},
     "output_type": "execute_result"
    }
   ],
   "source": [
    "arr14.shape"
   ]
  },
  {
   "cell_type": "code",
   "execution_count": 47,
   "id": "78ea07b8-a9be-4cd2-bdd6-4c1abd92215a",
   "metadata": {},
   "outputs": [
    {
     "data": {
      "text/plain": [
       "24"
      ]
     },
     "execution_count": 47,
     "metadata": {},
     "output_type": "execute_result"
    }
   ],
   "source": [
    "arr14.size"
   ]
  },
  {
   "cell_type": "code",
   "execution_count": 48,
   "id": "af41f8f7-3380-4176-82d3-23fb0c31944e",
   "metadata": {},
   "outputs": [
    {
     "data": {
      "text/plain": [
       "array([14,  4,  8,  7,  9,  5,  9,  4,  9,  5,  5, 11, 13, 12, 11, 12, 13,\n",
       "       12, 10, 14,  6, 12, 13, 12], dtype=int32)"
      ]
     },
     "execution_count": 48,
     "metadata": {},
     "output_type": "execute_result"
    }
   ],
   "source": [
    "arr14.ravel()"
   ]
  },
  {
   "cell_type": "code",
   "execution_count": 49,
   "id": "c70073ba-88f5-4bcc-9d2f-71f7aa6c606f",
   "metadata": {},
   "outputs": [],
   "source": [
    "# NumPy array mathematical operations"
   ]
  },
  {
   "cell_type": "code",
   "execution_count": 50,
   "id": "e6e7cbc8-5fe2-41ba-a920-4a6ddcc32a01",
   "metadata": {},
   "outputs": [
    {
     "data": {
      "text/plain": [
       "(array([[ 2,  6],\n",
       "        [-3,  1]]),\n",
       " array([[ 9,  3],\n",
       "        [-1, -8]]))"
      ]
     },
     "execution_count": 50,
     "metadata": {},
     "output_type": "execute_result"
    }
   ],
   "source": [
    "a=np.array([[2,6],[-3,1]])\n",
    "b=np.array([[9,3],[-1,-8]])\n",
    "a,b"
   ]
  },
  {
   "cell_type": "code",
   "execution_count": 51,
   "id": "deab9c2c-5438-4498-8612-8d179298033a",
   "metadata": {},
   "outputs": [
    {
     "data": {
      "text/plain": [
       "array([[11,  9],\n",
       "       [-4, -7]])"
      ]
     },
     "execution_count": 51,
     "metadata": {},
     "output_type": "execute_result"
    }
   ],
   "source": [
    "a+b"
   ]
  },
  {
   "cell_type": "code",
   "execution_count": 52,
   "id": "626d9711-d6c6-4689-9c63-037320fb5bfa",
   "metadata": {},
   "outputs": [
    {
     "data": {
      "text/plain": [
       "array([[-7,  3],\n",
       "       [-2,  9]])"
      ]
     },
     "execution_count": 52,
     "metadata": {},
     "output_type": "execute_result"
    }
   ],
   "source": [
    "a-b"
   ]
  },
  {
   "cell_type": "code",
   "execution_count": 53,
   "id": "7a9c4c79-b385-4eda-9a7d-df7113e4cf07",
   "metadata": {},
   "outputs": [
    {
     "data": {
      "text/plain": [
       "array([[18, 18],\n",
       "       [ 3, -8]])"
      ]
     },
     "execution_count": 53,
     "metadata": {},
     "output_type": "execute_result"
    }
   ],
   "source": [
    "a*b"
   ]
  },
  {
   "cell_type": "code",
   "execution_count": 54,
   "id": "2d04d18d-b952-4eb0-ac36-1a662c32e74a",
   "metadata": {},
   "outputs": [
    {
     "data": {
      "text/plain": [
       "array([[ 2,  6],\n",
       "       [-3,  1]])"
      ]
     },
     "execution_count": 54,
     "metadata": {},
     "output_type": "execute_result"
    }
   ],
   "source": [
    "a"
   ]
  },
  {
   "cell_type": "code",
   "execution_count": 55,
   "id": "45772ba9-fb59-441e-b5ec-80237a73fff9",
   "metadata": {},
   "outputs": [
    {
     "data": {
      "text/plain": [
       "array([[12, 16],\n",
       "       [ 7, 11]])"
      ]
     },
     "execution_count": 55,
     "metadata": {},
     "output_type": "execute_result"
    }
   ],
   "source": [
    "a+10"
   ]
  },
  {
   "cell_type": "code",
   "execution_count": 56,
   "id": "ccf2e2bc-3995-4c87-b36c-eea860cf02d2",
   "metadata": {},
   "outputs": [
    {
     "data": {
      "text/plain": [
       "array([[-1,  3],\n",
       "       [-6, -2]])"
      ]
     },
     "execution_count": 56,
     "metadata": {},
     "output_type": "execute_result"
    }
   ],
   "source": [
    "a-3"
   ]
  },
  {
   "cell_type": "code",
   "execution_count": 57,
   "id": "52c0f66f-9c6b-4d44-9c72-076638325b0d",
   "metadata": {},
   "outputs": [
    {
     "data": {
      "text/plain": [
       "array([[ 0.22222222,  2.        ],\n",
       "       [ 3.        , -0.125     ]])"
      ]
     },
     "execution_count": 57,
     "metadata": {},
     "output_type": "execute_result"
    }
   ],
   "source": [
    "a/b"
   ]
  },
  {
   "cell_type": "code",
   "execution_count": 58,
   "id": "8eaf00f3-8ba9-4ee2-b4a3-02045c44a542",
   "metadata": {},
   "outputs": [
    {
     "data": {
      "text/plain": [
       "array([[ 9,  3],\n",
       "       [-1, -8]])"
      ]
     },
     "execution_count": 58,
     "metadata": {},
     "output_type": "execute_result"
    }
   ],
   "source": [
    "b"
   ]
  },
  {
   "cell_type": "code",
   "execution_count": 59,
   "id": "eff96e7c-ccda-42f1-9fc0-0dd8dfcf2f46",
   "metadata": {},
   "outputs": [
    {
     "data": {
      "text/plain": [
       "(array([[12, 16],\n",
       "        [ 7, 11]]),\n",
       " array([[19, 13],\n",
       "        [ 9,  2]]))"
      ]
     },
     "execution_count": 59,
     "metadata": {},
     "output_type": "execute_result"
    }
   ],
   "source": [
    "a+10,b+10"
   ]
  },
  {
   "cell_type": "code",
   "execution_count": 60,
   "id": "956ce3ae-2c5f-4e43-9475-315ced8f890e",
   "metadata": {},
   "outputs": [],
   "source": [
    "# statistical operation"
   ]
  },
  {
   "cell_type": "code",
   "execution_count": 61,
   "id": "7d20cddb-f4b9-4de4-9ec9-54dfa8494288",
   "metadata": {},
   "outputs": [
    {
     "data": {
      "text/plain": [
       "array([[70, 82, 49, 80, 93],\n",
       "       [30, 91, 51, 87, 14],\n",
       "       [54, 82, 33, 49, 15],\n",
       "       [86, 95, 65, 38, 47]], dtype=int32)"
      ]
     },
     "execution_count": 61,
     "metadata": {},
     "output_type": "execute_result"
    }
   ],
   "source": [
    "arr15=np.random.randint(1,99,20).reshape(4,5)\n",
    "arr15\n"
   ]
  },
  {
   "cell_type": "code",
   "execution_count": 62,
   "id": "9d25dc8f-109f-455b-a52a-147ceddb9c87",
   "metadata": {},
   "outputs": [
    {
     "data": {
      "text/plain": [
       "np.float64(60.55)"
      ]
     },
     "execution_count": 62,
     "metadata": {},
     "output_type": "execute_result"
    }
   ],
   "source": [
    "arr15.mean()"
   ]
  },
  {
   "cell_type": "code",
   "execution_count": 63,
   "id": "23e7a2c7-db08-468c-823d-768eb5d694f5",
   "metadata": {},
   "outputs": [
    {
     "data": {
      "text/plain": [
       "np.float64(25.44498968362927)"
      ]
     },
     "execution_count": 63,
     "metadata": {},
     "output_type": "execute_result"
    }
   ],
   "source": [
    "arr15.std()"
   ]
  },
  {
   "cell_type": "code",
   "execution_count": 64,
   "id": "256345ef-e669-49e3-acdc-aba15f529855",
   "metadata": {},
   "outputs": [
    {
     "data": {
      "text/plain": [
       "np.int32(14)"
      ]
     },
     "execution_count": 64,
     "metadata": {},
     "output_type": "execute_result"
    }
   ],
   "source": [
    "arr15.min()"
   ]
  },
  {
   "cell_type": "code",
   "execution_count": 65,
   "id": "4006906c-23eb-4ddd-b1c9-9fbf7b34eba4",
   "metadata": {},
   "outputs": [
    {
     "data": {
      "text/plain": [
       "np.int32(95)"
      ]
     },
     "execution_count": 65,
     "metadata": {},
     "output_type": "execute_result"
    }
   ],
   "source": [
    "arr15.max()"
   ]
  },
  {
   "cell_type": "code",
   "execution_count": 66,
   "id": "64829523-f20c-4a72-8327-63688c95a043",
   "metadata": {},
   "outputs": [
    {
     "data": {
      "text/plain": [
       "np.float64(59.5)"
      ]
     },
     "execution_count": 66,
     "metadata": {},
     "output_type": "execute_result"
    }
   ],
   "source": [
    "np.median(arr15)"
   ]
  },
  {
   "cell_type": "code",
   "execution_count": 67,
   "id": "dc3a4bd6-3b0f-4fbe-aae3-5987ac5f2625",
   "metadata": {},
   "outputs": [
    {
     "data": {
      "text/plain": [
       "array([70, 82, 49, 80, 93, 30, 91, 51, 87, 14, 54, 82, 33, 49, 15, 86, 95,\n",
       "       65, 38, 47], dtype=int32)"
      ]
     },
     "execution_count": 67,
     "metadata": {},
     "output_type": "execute_result"
    }
   ],
   "source": [
    "arr15.ravel()"
   ]
  },
  {
   "cell_type": "code",
   "execution_count": 68,
   "id": "2d2e2627-e01b-42a2-9833-8f9e94dea4db",
   "metadata": {},
   "outputs": [
    {
     "data": {
      "text/plain": [
       "[np.int32(14),\n",
       " np.int32(15),\n",
       " np.int32(30),\n",
       " np.int32(33),\n",
       " np.int32(38),\n",
       " np.int32(47),\n",
       " np.int32(49),\n",
       " np.int32(49),\n",
       " np.int32(51),\n",
       " np.int32(54),\n",
       " np.int32(65),\n",
       " np.int32(70),\n",
       " np.int32(80),\n",
       " np.int32(82),\n",
       " np.int32(82),\n",
       " np.int32(86),\n",
       " np.int32(87),\n",
       " np.int32(91),\n",
       " np.int32(93),\n",
       " np.int32(95)]"
      ]
     },
     "execution_count": 68,
     "metadata": {},
     "output_type": "execute_result"
    }
   ],
   "source": [
    "sorted(arr15.ravel())"
   ]
  },
  {
   "cell_type": "code",
   "execution_count": 69,
   "id": "05b9cfec-1849-41e9-9f20-c84ab4e6aeb3",
   "metadata": {},
   "outputs": [
    {
     "data": {
      "text/plain": [
       "array([[ 9,  3],\n",
       "       [-1, -8]])"
      ]
     },
     "execution_count": 69,
     "metadata": {},
     "output_type": "execute_result"
    }
   ],
   "source": [
    "b"
   ]
  },
  {
   "cell_type": "code",
   "execution_count": 70,
   "id": "21d18bb0-d8b0-45f9-ba8a-cfdb98cab234",
   "metadata": {},
   "outputs": [
    {
     "data": {
      "text/plain": [
       "array([[9, 3],\n",
       "       [1, 8]])"
      ]
     },
     "execution_count": 70,
     "metadata": {},
     "output_type": "execute_result"
    }
   ],
   "source": [
    "np.abs(b)"
   ]
  },
  {
   "cell_type": "code",
   "execution_count": 71,
   "id": "10346d7f-b226-4bcf-aaf2-1bbfc0c4883a",
   "metadata": {},
   "outputs": [
    {
     "data": {
      "text/plain": [
       "array([161.75923571, 162.18091487, 157.51715693, 172.07844343,\n",
       "       163.43119242, 169.00133896, 161.46296303, 160.47218014,\n",
       "       158.58230076, 161.76092935, 161.25129904, 162.85792564,\n",
       "       173.23314473, 172.03379363, 172.16332497, 163.95410266,\n",
       "       169.95728295, 164.28584628, 151.4088301 , 159.30422973,\n",
       "       178.61631748, 165.93850219, 163.80568827, 184.68467718,\n",
       "       164.50520509, 176.23574314, 156.65468676, 172.3601801 ,\n",
       "       168.11421442, 162.13688212, 164.30789179, 148.59287089,\n",
       "       170.91053814, 164.85225679, 169.2443667 , 163.22869712,\n",
       "       151.5615604 , 155.21688465, 165.50964665, 164.97077242,\n",
       "       172.09698827, 153.95595539, 170.3120344 , 148.55742608,\n",
       "       164.37837314, 161.60500285, 156.57159761, 177.56755086,\n",
       "       164.05859702, 174.41835965, 158.87905483, 161.58889988,\n",
       "       168.25835461, 171.38028283, 153.96616087, 175.84520425,\n",
       "       176.78405594, 159.97033093, 168.10448209, 158.56530713,\n",
       "       174.24523649, 159.01942555, 161.25976422, 169.20760277,\n",
       "       177.65639547, 181.32446688, 166.38417806, 157.38252797,\n",
       "       148.77207492, 153.66383317, 175.65082326, 169.97020192,\n",
       "       157.44368281, 176.5128693 , 172.19967235, 156.64968622,\n",
       "       162.98248596, 163.26208161, 165.78848811, 170.24962692,\n",
       "       164.92391054, 166.29822055, 165.69467672, 169.42970996,\n",
       "       176.26422771, 145.03491588, 153.71824408, 182.07670451,\n",
       "       163.29091508, 157.36422062, 157.46928265, 150.18750594,\n",
       "       159.28590078, 150.77497082, 175.20722851, 178.16729689,\n",
       "       163.58460436, 173.72736983, 156.93399157, 168.00491695])"
      ]
     },
     "execution_count": 71,
     "metadata": {},
     "output_type": "execute_result"
    }
   ],
   "source": [
    "height_100_people"
   ]
  },
  {
   "cell_type": "code",
   "execution_count": 72,
   "id": "df2411c1-5068-4566-831f-cbe67f7393bf",
   "metadata": {},
   "outputs": [
    {
     "data": {
      "text/plain": [
       "array([161.76, 162.18, 157.52, 172.08, 163.43, 169.  , 161.46, 160.47,\n",
       "       158.58, 161.76, 161.25, 162.86, 173.23, 172.03, 172.16, 163.95,\n",
       "       169.96, 164.29, 151.41, 159.3 , 178.62, 165.94, 163.81, 184.68,\n",
       "       164.51, 176.24, 156.65, 172.36, 168.11, 162.14, 164.31, 148.59,\n",
       "       170.91, 164.85, 169.24, 163.23, 151.56, 155.22, 165.51, 164.97,\n",
       "       172.1 , 153.96, 170.31, 148.56, 164.38, 161.61, 156.57, 177.57,\n",
       "       164.06, 174.42, 158.88, 161.59, 168.26, 171.38, 153.97, 175.85,\n",
       "       176.78, 159.97, 168.1 , 158.57, 174.25, 159.02, 161.26, 169.21,\n",
       "       177.66, 181.32, 166.38, 157.38, 148.77, 153.66, 175.65, 169.97,\n",
       "       157.44, 176.51, 172.2 , 156.65, 162.98, 163.26, 165.79, 170.25,\n",
       "       164.92, 166.3 , 165.69, 169.43, 176.26, 145.03, 153.72, 182.08,\n",
       "       163.29, 157.36, 157.47, 150.19, 159.29, 150.77, 175.21, 178.17,\n",
       "       163.58, 173.73, 156.93, 168.  ])"
      ]
     },
     "execution_count": 72,
     "metadata": {},
     "output_type": "execute_result"
    }
   ],
   "source": [
    "np.round(height_100_people,decimals=2)"
   ]
  },
  {
   "cell_type": "code",
   "execution_count": 73,
   "id": "282bfa35-b51b-4377-8bd5-c40c31d8b375",
   "metadata": {},
   "outputs": [
    {
     "data": {
      "text/plain": [
       "array([162., 162., 158., 172., 163., 169., 161., 160., 159., 162., 161.,\n",
       "       163., 173., 172., 172., 164., 170., 164., 151., 159., 179., 166.,\n",
       "       164., 185., 165., 176., 157., 172., 168., 162., 164., 149., 171.,\n",
       "       165., 169., 163., 152., 155., 166., 165., 172., 154., 170., 149.,\n",
       "       164., 162., 157., 178., 164., 174., 159., 162., 168., 171., 154.,\n",
       "       176., 177., 160., 168., 159., 174., 159., 161., 169., 178., 181.,\n",
       "       166., 157., 149., 154., 176., 170., 157., 177., 172., 157., 163.,\n",
       "       163., 166., 170., 165., 166., 166., 169., 176., 145., 154., 182.,\n",
       "       163., 157., 157., 150., 159., 151., 175., 178., 164., 174., 157.,\n",
       "       168.])"
      ]
     },
     "execution_count": 73,
     "metadata": {},
     "output_type": "execute_result"
    }
   ],
   "source": [
    "np.round(height_100_people)"
   ]
  },
  {
   "cell_type": "code",
   "execution_count": 74,
   "id": "78fed637-2123-45e6-9598-7441d763d1e4",
   "metadata": {},
   "outputs": [
    {
     "data": {
      "text/plain": [
       "np.float64(60.55)"
      ]
     },
     "execution_count": 74,
     "metadata": {},
     "output_type": "execute_result"
    }
   ],
   "source": [
    "np.mean(arr15)"
   ]
  },
  {
   "cell_type": "code",
   "execution_count": 75,
   "id": "9ed10444-6347-4ec0-bae0-be957191a2ed",
   "metadata": {},
   "outputs": [
    {
     "data": {
      "text/plain": [
       "array([74.8, 54.6, 46.6, 66.2])"
      ]
     },
     "execution_count": 75,
     "metadata": {},
     "output_type": "execute_result"
    }
   ],
   "source": [
    "np.mean(arr15,axis=1)"
   ]
  },
  {
   "cell_type": "code",
   "execution_count": 76,
   "id": "e877f678-fc50-45af-bd3d-4d48cc47c876",
   "metadata": {},
   "outputs": [
    {
     "data": {
      "text/plain": [
       "array([[70, 82, 49, 80, 93],\n",
       "       [30, 91, 51, 87, 14],\n",
       "       [54, 82, 33, 49, 15],\n",
       "       [86, 95, 65, 38, 47]], dtype=int32)"
      ]
     },
     "execution_count": 76,
     "metadata": {},
     "output_type": "execute_result"
    }
   ],
   "source": [
    "arr15"
   ]
  },
  {
   "cell_type": "code",
   "execution_count": 77,
   "id": "250b59cf-192a-46ed-b136-676802e4a975",
   "metadata": {},
   "outputs": [
    {
     "data": {
      "text/plain": [
       "array([60.  , 87.5 , 49.5 , 63.5 , 42.25])"
      ]
     },
     "execution_count": 77,
     "metadata": {},
     "output_type": "execute_result"
    }
   ],
   "source": [
    "np.mean(arr15,axis=0)"
   ]
  },
  {
   "cell_type": "code",
   "execution_count": 78,
   "id": "1214180e-fcbd-4ee8-9e18-fa0e099aca0e",
   "metadata": {},
   "outputs": [
    {
     "data": {
      "text/plain": [
       "np.int64(1211)"
      ]
     },
     "execution_count": 78,
     "metadata": {},
     "output_type": "execute_result"
    }
   ],
   "source": [
    "np.sum(arr15)"
   ]
  },
  {
   "cell_type": "code",
   "execution_count": 79,
   "id": "e87f8901-7e10-41f4-8909-62489e7ed561",
   "metadata": {},
   "outputs": [
    {
     "data": {
      "text/plain": [
       "array([374, 273, 233, 331])"
      ]
     },
     "execution_count": 79,
     "metadata": {},
     "output_type": "execute_result"
    }
   ],
   "source": [
    "np.sum(arr15,axis=1)"
   ]
  },
  {
   "cell_type": "code",
   "execution_count": 80,
   "id": "f43564b4-40b0-4723-a4ec-b44a43753382",
   "metadata": {},
   "outputs": [
    {
     "data": {
      "text/plain": [
       "array([240, 350, 198, 254, 169])"
      ]
     },
     "execution_count": 80,
     "metadata": {},
     "output_type": "execute_result"
    }
   ],
   "source": [
    "np.sum(arr15,axis=0)"
   ]
  },
  {
   "cell_type": "code",
   "execution_count": 81,
   "id": "0f7bbb7d-4f64-4804-be3e-e809cf99bc50",
   "metadata": {},
   "outputs": [
    {
     "data": {
      "text/plain": [
       "array([5, 9, 2, 1, 7, 8])"
      ]
     },
     "execution_count": 81,
     "metadata": {},
     "output_type": "execute_result"
    }
   ],
   "source": [
    "arr1"
   ]
  },
  {
   "cell_type": "code",
   "execution_count": 82,
   "id": "b7172f81-f7e3-4f0a-87a4-11a73f1c1696",
   "metadata": {},
   "outputs": [
    {
     "data": {
      "text/plain": [
       "array([ 5,  9,  2,  1,  7,  8, 10])"
      ]
     },
     "execution_count": 82,
     "metadata": {},
     "output_type": "execute_result"
    }
   ],
   "source": [
    "np.append(arr1,10)"
   ]
  },
  {
   "cell_type": "code",
   "execution_count": 83,
   "id": "2255b585-4c50-4998-8e7e-d7959cea44dc",
   "metadata": {},
   "outputs": [
    {
     "data": {
      "text/plain": [
       "array([70, 82, 49, 80, 93, 30, 91, 51, 87, 14, 54, 82, 33, 49, 15, 86, 95,\n",
       "       65, 38, 47, 10])"
      ]
     },
     "execution_count": 83,
     "metadata": {},
     "output_type": "execute_result"
    }
   ],
   "source": [
    "np.append(arr15,10)"
   ]
  },
  {
   "cell_type": "code",
   "execution_count": 84,
   "id": "cf89b1de-9a32-4dcb-a500-9a4e3e43cd4b",
   "metadata": {},
   "outputs": [
    {
     "data": {
      "text/plain": [
       "array([70, 82, 49, 80, 93, 30, 91, 51, 87, 14, 54, 82, 33, 49, 15, 86, 95,\n",
       "       65, 38, 47, 10, 10, 10, 10])"
      ]
     },
     "execution_count": 84,
     "metadata": {},
     "output_type": "execute_result"
    }
   ],
   "source": [
    "np.append(arr15,[[10],[10],[10],[10]])"
   ]
  },
  {
   "cell_type": "code",
   "execution_count": 85,
   "id": "3d6f525d-d37a-4f02-99f7-d2be2fdf4825",
   "metadata": {},
   "outputs": [
    {
     "data": {
      "text/plain": [
       "array([[70, 82, 49, 80, 93, 10],\n",
       "       [30, 91, 51, 87, 14, 10],\n",
       "       [54, 82, 33, 49, 15, 10],\n",
       "       [86, 95, 65, 38, 47, 10]])"
      ]
     },
     "execution_count": 85,
     "metadata": {},
     "output_type": "execute_result"
    }
   ],
   "source": [
    "np.append(arr15,[[10],[10],[10],[10]],axis=1)"
   ]
  },
  {
   "cell_type": "code",
   "execution_count": 86,
   "id": "d7d705f3-f827-43d0-bfc5-cd1d9558cf7c",
   "metadata": {},
   "outputs": [
    {
     "data": {
      "text/plain": [
       "array([[70, 82, 49, 80, 93],\n",
       "       [30, 91, 51, 87, 14],\n",
       "       [54, 82, 33, 49, 15],\n",
       "       [86, 95, 65, 38, 47],\n",
       "       [10, 10, 10, 10, 10]])"
      ]
     },
     "execution_count": 86,
     "metadata": {},
     "output_type": "execute_result"
    }
   ],
   "source": [
    "np.append(arr15,[[10,10,10,10,10]],axis=0)"
   ]
  },
  {
   "cell_type": "code",
   "execution_count": 89,
   "id": "45e89ed4-6b2d-433c-a7e2-0366cf86ff4e",
   "metadata": {},
   "outputs": [
    {
     "data": {
      "text/plain": [
       "array([[12,  4,  8, 53],\n",
       "       [85, 21,  9, -1],\n",
       "       [93, 45, 14,  8]])"
      ]
     },
     "execution_count": 89,
     "metadata": {},
     "output_type": "execute_result"
    }
   ],
   "source": [
    "data_from_file=np.loadtxt(\"demo.csv\",delimiter=\",\",dtype=int)\n",
    "data_from_file"
   ]
  },
  {
   "cell_type": "code",
   "execution_count": 94,
   "id": "1aeca9b6-ebc8-474b-a45e-8efba98a6d62",
   "metadata": {},
   "outputs": [
    {
     "data": {
      "text/plain": [
       "array([[ 12,   4,  83,  53],\n",
       "       [ 85, 100,   9,  -1],\n",
       "       [ 93,  45,  14,   8]])"
      ]
     },
     "execution_count": 94,
     "metadata": {},
     "output_type": "execute_result"
    }
   ],
   "source": [
    "data_from_file2=np.genfromtxt(\"demo2.csv\",delimiter=\",\",dtype=int,filling_values=100)\n",
    "data_from_file2"
   ]
  },
  {
   "cell_type": "code",
   "execution_count": 95,
   "id": "f78719d2-2c58-4307-9f1b-0166d82ce8c6",
   "metadata": {},
   "outputs": [
    {
     "data": {
      "text/plain": [
       "array([[70, 82, 49, 80, 93],\n",
       "       [30, 91, 51, 87, 14],\n",
       "       [54, 82, 33, 49, 15],\n",
       "       [86, 95, 65, 38, 47]], dtype=int32)"
      ]
     },
     "execution_count": 95,
     "metadata": {},
     "output_type": "execute_result"
    }
   ],
   "source": [
    "arr15"
   ]
  },
  {
   "cell_type": "code",
   "execution_count": 96,
   "id": "bdfc06b9-6755-4892-af68-0870e0878669",
   "metadata": {},
   "outputs": [],
   "source": [
    "np.savetxt(\"data_from_numpy.csv\",arr15,delimiter=\",\",fmt=\"%d\")"
   ]
  },
  {
   "cell_type": "code",
   "execution_count": 98,
   "id": "3f1a6c7f-cc59-4acf-beb4-d064830c76b3",
   "metadata": {},
   "outputs": [],
   "source": [
    "np.save(\"numpy_data.np\",arr15)"
   ]
  },
  {
   "cell_type": "code",
   "execution_count": 99,
   "id": "e627ec61-47a6-494a-820e-e6132bfc1a34",
   "metadata": {},
   "outputs": [
    {
     "data": {
      "text/plain": [
       "array([[70, 82, 49, 80, 93],\n",
       "       [30, 91, 51, 87, 14],\n",
       "       [54, 82, 33, 49, 15],\n",
       "       [86, 95, 65, 38, 47]], dtype=int32)"
      ]
     },
     "execution_count": 99,
     "metadata": {},
     "output_type": "execute_result"
    }
   ],
   "source": [
    "np.load(\"numpy_data.np.npy\")"
   ]
  },
  {
   "cell_type": "code",
   "execution_count": 101,
   "id": "b8c4daef-75d3-4a63-85af-25dd44583033",
   "metadata": {},
   "outputs": [
    {
     "data": {
      "text/plain": [
       "array([[8, 4, 5, 1],\n",
       "       [4, 5, 3, 5],\n",
       "       [7, 4, 9, 1]], dtype=int32)"
      ]
     },
     "execution_count": 101,
     "metadata": {},
     "output_type": "execute_result"
    }
   ],
   "source": [
    "p=np.random.randint(1,10,12).reshape(3,4)\n",
    "p"
   ]
  },
  {
   "cell_type": "code",
   "execution_count": 102,
   "id": "46bfea80-c3e0-40ef-9c19-65bdb3f792d5",
   "metadata": {},
   "outputs": [
    {
     "data": {
      "text/plain": [
       "array([[9, 3, 2, 8, 5],\n",
       "       [6, 3, 3, 7, 6],\n",
       "       [9, 6, 1, 6, 7],\n",
       "       [3, 2, 6, 8, 1]], dtype=int32)"
      ]
     },
     "execution_count": 102,
     "metadata": {},
     "output_type": "execute_result"
    }
   ],
   "source": [
    "q=np.random.randint(1,10,20).reshape(4,5)\n",
    "q"
   ]
  },
  {
   "cell_type": "code",
   "execution_count": 103,
   "id": "8007f192-4e31-44bf-b469-5acce34ac0d3",
   "metadata": {},
   "outputs": [
    {
     "data": {
      "text/plain": [
       "array([[144,  68,  39, 130, 100],\n",
       "       [108,  55,  56, 125,  76],\n",
       "       [171,  89,  41, 146, 123]], dtype=int32)"
      ]
     },
     "execution_count": 103,
     "metadata": {},
     "output_type": "execute_result"
    }
   ],
   "source": [
    "p.dot(q)"
   ]
  },
  {
   "cell_type": "code",
   "execution_count": 104,
   "id": "9b19a72e-de74-451a-89c8-1ed8b3e35179",
   "metadata": {},
   "outputs": [
    {
     "data": {
      "text/plain": [
       "array([[144,  68,  39, 130, 100],\n",
       "       [108,  55,  56, 125,  76],\n",
       "       [171,  89,  41, 146, 123]], dtype=int32)"
      ]
     },
     "execution_count": 104,
     "metadata": {},
     "output_type": "execute_result"
    }
   ],
   "source": [
    "np.dot(p,q)"
   ]
  },
  {
   "cell_type": "code",
   "execution_count": 105,
   "id": "f54ba7e6-ef9d-480f-a32f-f632e2704b15",
   "metadata": {},
   "outputs": [
    {
     "data": {
      "text/plain": [
       "array([0., 0., 0., 0.])"
      ]
     },
     "execution_count": 105,
     "metadata": {},
     "output_type": "execute_result"
    }
   ],
   "source": [
    "zero_arr=np.zeros(4)\n",
    "zero_arr"
   ]
  },
  {
   "cell_type": "code",
   "execution_count": 106,
   "id": "7afc216e-b4f8-459a-9adb-5d7e18e62388",
   "metadata": {},
   "outputs": [
    {
     "data": {
      "text/plain": [
       "array([[0., 0., 0., 0.],\n",
       "       [0., 0., 0., 0.],\n",
       "       [0., 0., 0., 0.]])"
      ]
     },
     "execution_count": 106,
     "metadata": {},
     "output_type": "execute_result"
    }
   ],
   "source": [
    "zero_arr=np.zeros((3,4))\n",
    "zero_arr"
   ]
  },
  {
   "cell_type": "code",
   "execution_count": 107,
   "id": "16995386-8353-40aa-8122-308a3116deaf",
   "metadata": {},
   "outputs": [
    {
     "data": {
      "text/plain": [
       "array([[1., 1., 1.],\n",
       "       [1., 1., 1.],\n",
       "       [1., 1., 1.],\n",
       "       [1., 1., 1.]])"
      ]
     },
     "execution_count": 107,
     "metadata": {},
     "output_type": "execute_result"
    }
   ],
   "source": [
    "ones_arr=np.ones((4,3))\n",
    "ones_arr"
   ]
  },
  {
   "cell_type": "code",
   "execution_count": 108,
   "id": "73b815f1-8e77-45d7-a7a7-c08ecd369381",
   "metadata": {},
   "outputs": [
    {
     "data": {
      "text/plain": [
       "array([[1., 0., 0., 0.],\n",
       "       [0., 1., 0., 0.],\n",
       "       [0., 0., 1., 0.],\n",
       "       [0., 0., 0., 1.]])"
      ]
     },
     "execution_count": 108,
     "metadata": {},
     "output_type": "execute_result"
    }
   ],
   "source": [
    "i=np.eye(4)\n",
    "i"
   ]
  },
  {
   "cell_type": "code",
   "execution_count": 109,
   "id": "84992d97-dad8-4283-8f73-244ebae00e6c",
   "metadata": {},
   "outputs": [
    {
     "data": {
      "text/plain": [
       "array([[1., 0., 0.],\n",
       "       [0., 1., 0.],\n",
       "       [0., 0., 1.],\n",
       "       [0., 0., 0.]])"
      ]
     },
     "execution_count": 109,
     "metadata": {},
     "output_type": "execute_result"
    }
   ],
   "source": [
    "np.eye(4,3)"
   ]
  },
  {
   "cell_type": "code",
   "execution_count": 110,
   "id": "328f6625-b112-4ce0-9981-8ad2e8b6edd5",
   "metadata": {},
   "outputs": [
    {
     "data": {
      "text/plain": [
       "array([[8, 4, 5, 1],\n",
       "       [4, 5, 3, 5],\n",
       "       [7, 4, 9, 1]], dtype=int32)"
      ]
     },
     "execution_count": 110,
     "metadata": {},
     "output_type": "execute_result"
    }
   ],
   "source": [
    "p"
   ]
  },
  {
   "cell_type": "code",
   "execution_count": 111,
   "id": "63964805-8b4d-4433-8e14-4fc072ac7ec1",
   "metadata": {},
   "outputs": [
    {
     "data": {
      "text/plain": [
       "array([[8., 4., 5., 1.],\n",
       "       [4., 5., 3., 5.],\n",
       "       [7., 4., 9., 1.]])"
      ]
     },
     "execution_count": 111,
     "metadata": {},
     "output_type": "execute_result"
    }
   ],
   "source": [
    "p.dot(i)"
   ]
  },
  {
   "cell_type": "code",
   "execution_count": 112,
   "id": "000128f7-19fb-479b-9fa0-e8be922c7f50",
   "metadata": {},
   "outputs": [
    {
     "data": {
      "text/plain": [
       "array([[50, 45, 41, 35],\n",
       "       [54, 56, 49, 46],\n",
       "       [30, 48, 58, 40],\n",
       "       [34, 41, 40, 30]], dtype=int32)"
      ]
     },
     "execution_count": 112,
     "metadata": {},
     "output_type": "execute_result"
    }
   ],
   "source": [
    "sq=np.random.randint(30,60,16).reshape(4,4)\n",
    "sq"
   ]
  },
  {
   "cell_type": "code",
   "execution_count": 113,
   "id": "1bc03ebe-4408-4cc8-a561-9a726406c573",
   "metadata": {},
   "outputs": [
    {
     "data": {
      "text/plain": [
       "np.int64(194)"
      ]
     },
     "execution_count": 113,
     "metadata": {},
     "output_type": "execute_result"
    }
   ],
   "source": [
    "sq.trace()"
   ]
  },
  {
   "cell_type": "code",
   "execution_count": 114,
   "id": "b4192e82-8a84-4325-aede-9420676d0eea",
   "metadata": {},
   "outputs": [
    {
     "data": {
      "text/plain": [
       "array([[50, 54, 30, 34],\n",
       "       [45, 56, 48, 41],\n",
       "       [41, 49, 58, 40],\n",
       "       [35, 46, 40, 30]], dtype=int32)"
      ]
     },
     "execution_count": 114,
     "metadata": {},
     "output_type": "execute_result"
    }
   ],
   "source": [
    "sq.T"
   ]
  },
  {
   "cell_type": "code",
   "execution_count": 115,
   "id": "ffafb124-c5f6-4dcc-adec-d47f857cba35",
   "metadata": {},
   "outputs": [
    {
     "data": {
      "text/plain": [
       "array([[8, 4, 7],\n",
       "       [4, 5, 4],\n",
       "       [5, 3, 9],\n",
       "       [1, 5, 1]], dtype=int32)"
      ]
     },
     "execution_count": 115,
     "metadata": {},
     "output_type": "execute_result"
    }
   ],
   "source": [
    "p.T"
   ]
  },
  {
   "cell_type": "code",
   "execution_count": 116,
   "id": "12be1128-4ef0-48ef-8986-e0755a3099c5",
   "metadata": {},
   "outputs": [
    {
     "data": {
      "text/plain": [
       "np.float64(0.0)"
      ]
     },
     "execution_count": 116,
     "metadata": {},
     "output_type": "execute_result"
    }
   ],
   "source": [
    "np.linalg.det([[2,1],[4,2]])"
   ]
  },
  {
   "cell_type": "code",
   "execution_count": 121,
   "id": "329e0896-c2c9-4116-af4b-b66064afe0fe",
   "metadata": {},
   "outputs": [
    {
     "data": {
      "text/plain": [
       "np.float64(-30742.00000000004)"
      ]
     },
     "execution_count": 121,
     "metadata": {},
     "output_type": "execute_result"
    }
   ],
   "source": [
    "np.linalg.det(sq)"
   ]
  },
  {
   "cell_type": "code",
   "execution_count": 119,
   "id": "f023b3f3-b4bf-4671-97e6-f245d1b57073",
   "metadata": {},
   "outputs": [
    {
     "data": {
      "text/plain": [
       "array([[2, 1],\n",
       "       [4, 2]])"
      ]
     },
     "execution_count": 119,
     "metadata": {},
     "output_type": "execute_result"
    }
   ],
   "source": [
    "mat=np.array([[2,1],[4,2]])\n",
    "mat"
   ]
  },
  {
   "cell_type": "code",
   "execution_count": 120,
   "id": "e57d2f05-043b-46c0-b434-375d2a53ea73",
   "metadata": {},
   "outputs": [
    {
     "data": {
      "text/plain": [
       "array([[1.41421356, 1.        ],\n",
       "       [2.        , 1.41421356]])"
      ]
     },
     "execution_count": 120,
     "metadata": {},
     "output_type": "execute_result"
    }
   ],
   "source": [
    "np.sqrt(mat)"
   ]
  },
  {
   "cell_type": "code",
   "execution_count": 122,
   "id": "fc1f7442-b60b-40a0-8c2b-575fc0f2e169",
   "metadata": {},
   "outputs": [],
   "source": [
    "# create random number matrix of 16 elements and 1, reshape it atleast 3 ways in 2d,3d format and find its trace value and its transpose"
   ]
  },
  {
   "cell_type": "code",
   "execution_count": 131,
   "id": "dc0d5648-e332-4fe1-aeab-8c7c22ee08ac",
   "metadata": {},
   "outputs": [
    {
     "data": {
      "text/plain": [
       "array([12,  6,  1, 12, 11,  8, 13, 11, 13,  7, 15,  2,  5, 19, 18,  5],\n",
       "      dtype=int32)"
      ]
     },
     "execution_count": 131,
     "metadata": {},
     "output_type": "execute_result"
    }
   ],
   "source": [
    "z=np.random.randint(1,20,16)\n",
    "z"
   ]
  },
  {
   "cell_type": "code",
   "execution_count": 135,
   "id": "64609196-da1d-46fd-9973-1d8116ee9c2c",
   "metadata": {},
   "outputs": [
    {
     "data": {
      "text/plain": [
       "array([16,  1, 40, 10, 35, 19, 14,  2, 48, 33, 11, 29, 22, 12, 45, 30],\n",
       "      dtype=int32)"
      ]
     },
     "execution_count": 135,
     "metadata": {},
     "output_type": "execute_result"
    }
   ],
   "source": [
    "mat1=np.random.randint(1,50,16)\n",
    "mat1"
   ]
  },
  {
   "cell_type": "code",
   "execution_count": 137,
   "id": "9b8a1e36-d769-4444-822e-e5abf882dcad",
   "metadata": {},
   "outputs": [
    {
     "data": {
      "text/plain": [
       "array([[16,  1, 40, 10],\n",
       "       [35, 19, 14,  2],\n",
       "       [48, 33, 11, 29],\n",
       "       [22, 12, 45, 30]], dtype=int32)"
      ]
     },
     "execution_count": 137,
     "metadata": {},
     "output_type": "execute_result"
    }
   ],
   "source": [
    "mat1.reshape(4,4)"
   ]
  },
  {
   "cell_type": "code",
   "execution_count": 138,
   "id": "bdf2a345-f2ab-4616-a49b-03f4a64acca2",
   "metadata": {},
   "outputs": [
    {
     "data": {
      "text/plain": [
       "array([[16,  1],\n",
       "       [40, 10],\n",
       "       [35, 19],\n",
       "       [14,  2],\n",
       "       [48, 33],\n",
       "       [11, 29],\n",
       "       [22, 12],\n",
       "       [45, 30]], dtype=int32)"
      ]
     },
     "execution_count": 138,
     "metadata": {},
     "output_type": "execute_result"
    }
   ],
   "source": [
    "mat1.reshape(8,2)"
   ]
  },
  {
   "cell_type": "code",
   "execution_count": 139,
   "id": "514e5969-f213-4f36-918b-5178259615bc",
   "metadata": {},
   "outputs": [
    {
     "data": {
      "text/plain": [
       "array([[[16,  1],\n",
       "        [40, 10],\n",
       "        [35, 19],\n",
       "        [14,  2]],\n",
       "\n",
       "       [[48, 33],\n",
       "        [11, 29],\n",
       "        [22, 12],\n",
       "        [45, 30]]], dtype=int32)"
      ]
     },
     "execution_count": 139,
     "metadata": {},
     "output_type": "execute_result"
    }
   ],
   "source": [
    "mat1.reshape(2,4,2)"
   ]
  },
  {
   "cell_type": "code",
   "execution_count": 140,
   "id": "99105656-06bb-4012-8cc9-5616a96be5ee",
   "metadata": {},
   "outputs": [],
   "source": [
    "mat1.resize(4,4)"
   ]
  },
  {
   "cell_type": "code",
   "execution_count": 142,
   "id": "dd232866-9bbf-42f5-8a11-e679f5f93969",
   "metadata": {},
   "outputs": [
    {
     "data": {
      "text/plain": [
       "np.int64(76)"
      ]
     },
     "execution_count": 142,
     "metadata": {},
     "output_type": "execute_result"
    }
   ],
   "source": [
    "mat1.trace()"
   ]
  },
  {
   "cell_type": "code",
   "execution_count": 143,
   "id": "56c1d980-2b11-49a2-9800-13b0c71f5d7f",
   "metadata": {},
   "outputs": [
    {
     "data": {
      "text/plain": [
       "array([[16, 35, 48, 22],\n",
       "       [ 1, 19, 33, 12],\n",
       "       [40, 14, 11, 45],\n",
       "       [10,  2, 29, 30]], dtype=int32)"
      ]
     },
     "execution_count": 143,
     "metadata": {},
     "output_type": "execute_result"
    }
   ],
   "source": [
    "mat1.T"
   ]
  },
  {
   "cell_type": "code",
   "execution_count": 144,
   "id": "497c472c-f3af-4c27-9086-59032b72d85a",
   "metadata": {},
   "outputs": [
    {
     "data": {
      "text/plain": [
       "array([[16,  1, 40, 10],\n",
       "       [35, 19, 14,  2],\n",
       "       [48, 33, 11, 29],\n",
       "       [22, 12, 45, 30]], dtype=int32)"
      ]
     },
     "execution_count": 144,
     "metadata": {},
     "output_type": "execute_result"
    }
   ],
   "source": [
    "mat1"
   ]
  },
  {
   "cell_type": "code",
   "execution_count": 145,
   "id": "adbc9605-f6e7-4fad-a271-16ff965d50b2",
   "metadata": {},
   "outputs": [
    {
     "data": {
      "text/plain": [
       "array([16,  1, 40, 10], dtype=int32)"
      ]
     },
     "execution_count": 145,
     "metadata": {},
     "output_type": "execute_result"
    }
   ],
   "source": [
    "mat1[0]"
   ]
  },
  {
   "cell_type": "code",
   "execution_count": 148,
   "id": "d9778ecf-9ddd-42d2-810b-fd6d5953692c",
   "metadata": {},
   "outputs": [
    {
     "data": {
      "text/plain": [
       "array([48, 33, 11, 29], dtype=int32)"
      ]
     },
     "execution_count": 148,
     "metadata": {},
     "output_type": "execute_result"
    }
   ],
   "source": [
    "mat1[2]"
   ]
  },
  {
   "cell_type": "code",
   "execution_count": 149,
   "id": "c5c3e126-4d40-4fe1-8c44-d14e035f2087",
   "metadata": {},
   "outputs": [
    {
     "data": {
      "text/plain": [
       "array([40, 14, 11, 45], dtype=int32)"
      ]
     },
     "execution_count": 149,
     "metadata": {},
     "output_type": "execute_result"
    }
   ],
   "source": [
    "mat1[:,2]"
   ]
  },
  {
   "cell_type": "code",
   "execution_count": 150,
   "id": "0bcff0d6-1ba7-497e-8dd2-06cffb4b9560",
   "metadata": {},
   "outputs": [
    {
     "data": {
      "text/plain": [
       "array([10,  2, 29, 30], dtype=int32)"
      ]
     },
     "execution_count": 150,
     "metadata": {},
     "output_type": "execute_result"
    }
   ],
   "source": [
    "mat1[:,-1]"
   ]
  },
  {
   "cell_type": "code",
   "execution_count": 152,
   "id": "9f107a66-c565-4b00-9dc5-411d3e07bf47",
   "metadata": {},
   "outputs": [
    {
     "data": {
      "text/plain": [
       "array([[19, 14],\n",
       "       [33, 11]], dtype=int32)"
      ]
     },
     "execution_count": 152,
     "metadata": {},
     "output_type": "execute_result"
    }
   ],
   "source": [
    "mat1[1:3,1:3]"
   ]
  },
  {
   "cell_type": "code",
   "execution_count": 153,
   "id": "c2e18d16-535c-4259-a553-3bcb8735eeea",
   "metadata": {},
   "outputs": [
    {
     "data": {
      "text/plain": [
       "array([[14,  2],\n",
       "       [11, 29],\n",
       "       [45, 30]], dtype=int32)"
      ]
     },
     "execution_count": 153,
     "metadata": {},
     "output_type": "execute_result"
    }
   ],
   "source": [
    "mat1[1:,2:]"
   ]
  },
  {
   "cell_type": "code",
   "execution_count": 154,
   "id": "d5c681da-2cff-451e-8fad-b45d2bb316a4",
   "metadata": {},
   "outputs": [
    {
     "data": {
      "text/plain": [
       "array([[16,  1, 40, 10],\n",
       "       [35, 19, 14,  2],\n",
       "       [48, 33, 11, 29],\n",
       "       [22, 12, 45, 30]], dtype=int32)"
      ]
     },
     "execution_count": 154,
     "metadata": {},
     "output_type": "execute_result"
    }
   ],
   "source": [
    "mat1"
   ]
  },
  {
   "cell_type": "code",
   "execution_count": 155,
   "id": "c8508ab2-eacb-4629-b247-ae6dc14576c8",
   "metadata": {},
   "outputs": [
    {
     "data": {
      "text/plain": [
       "array([[16, 40],\n",
       "       [35, 14],\n",
       "       [48, 11],\n",
       "       [22, 45]], dtype=int32)"
      ]
     },
     "execution_count": 155,
     "metadata": {},
     "output_type": "execute_result"
    }
   ],
   "source": [
    "mat1[:, 0::2]"
   ]
  },
  {
   "cell_type": "code",
   "execution_count": 156,
   "id": "dd15f09d-ad7e-4509-a82f-7adc8d90e9d9",
   "metadata": {},
   "outputs": [
    {
     "data": {
      "text/plain": [
       "array([[ 1, 40],\n",
       "       [12, 45]], dtype=int32)"
      ]
     },
     "execution_count": 156,
     "metadata": {},
     "output_type": "execute_result"
    }
   ],
   "source": [
    "mat1[0::3, 1:3]"
   ]
  },
  {
   "cell_type": "code",
   "execution_count": 161,
   "id": "018d796a-1bdf-4f76-ba80-97d17be06989",
   "metadata": {},
   "outputs": [
    {
     "data": {
      "text/plain": [
       "array([[16,  1, 40, 10],\n",
       "       [48, 33, 11, 29],\n",
       "       [22, 12, 45, 30]], dtype=int32)"
      ]
     },
     "execution_count": 161,
     "metadata": {},
     "output_type": "execute_result"
    }
   ],
   "source": [
    "mat1[[0,2,3]]"
   ]
  },
  {
   "cell_type": "code",
   "execution_count": 162,
   "id": "50277a2d-4970-456d-bd1c-89b3ba94406b",
   "metadata": {},
   "outputs": [
    {
     "data": {
      "text/plain": [
       "array([40, 11, 45], dtype=int32)"
      ]
     },
     "execution_count": 162,
     "metadata": {},
     "output_type": "execute_result"
    }
   ],
   "source": [
    "mat1[[0,2,3],2]"
   ]
  },
  {
   "cell_type": "code",
   "execution_count": 163,
   "id": "6e54bfd3-5a32-4acb-8060-25df9a2be572",
   "metadata": {},
   "outputs": [
    {
     "data": {
      "text/plain": [
       "array([[40, 10],\n",
       "       [11, 29],\n",
       "       [45, 30]], dtype=int32)"
      ]
     },
     "execution_count": 163,
     "metadata": {},
     "output_type": "execute_result"
    }
   ],
   "source": [
    "mat1[[0,2,3],2:]"
   ]
  },
  {
   "cell_type": "code",
   "execution_count": 164,
   "id": "1fbea476-7718-45f2-9747-f6ce0254bb85",
   "metadata": {},
   "outputs": [],
   "source": [
    "arr20=np.arange(1,101).reshape(10,10).T"
   ]
  },
  {
   "cell_type": "code",
   "execution_count": 165,
   "id": "543db152-f322-4f66-9ac9-80a9e85385f8",
   "metadata": {},
   "outputs": [
    {
     "data": {
      "text/plain": [
       "array([[  1,  11,  21,  31,  41,  51,  61,  71,  81,  91],\n",
       "       [  2,  12,  22,  32,  42,  52,  62,  72,  82,  92],\n",
       "       [  3,  13,  23,  33,  43,  53,  63,  73,  83,  93],\n",
       "       [  4,  14,  24,  34,  44,  54,  64,  74,  84,  94],\n",
       "       [  5,  15,  25,  35,  45,  55,  65,  75,  85,  95],\n",
       "       [  6,  16,  26,  36,  46,  56,  66,  76,  86,  96],\n",
       "       [  7,  17,  27,  37,  47,  57,  67,  77,  87,  97],\n",
       "       [  8,  18,  28,  38,  48,  58,  68,  78,  88,  98],\n",
       "       [  9,  19,  29,  39,  49,  59,  69,  79,  89,  99],\n",
       "       [ 10,  20,  30,  40,  50,  60,  70,  80,  90, 100]])"
      ]
     },
     "execution_count": 165,
     "metadata": {},
     "output_type": "execute_result"
    }
   ],
   "source": [
    "arr20"
   ]
  },
  {
   "cell_type": "code",
   "execution_count": 166,
   "id": "dc6e26f0-0599-4a88-8cf1-637bf2facbae",
   "metadata": {},
   "outputs": [],
   "source": [
    "# # [[32,42,52],\n",
    "# [33,43,53]]"
   ]
  },
  {
   "cell_type": "code",
   "execution_count": 167,
   "id": "7cd778d4-7f51-4824-9668-56e7c7fe470c",
   "metadata": {},
   "outputs": [],
   "source": [
    "# [[33,  43,  53,  63,  73,  83,  93],\n",
    "# [34,  44,  54,  64,  74,  84,  94],\n",
    "# [36,  46,  56,  66,  76,  86,  96],\n",
    "# [38,  48,  58,  68,  78,  88,  98]]"
   ]
  },
  {
   "cell_type": "code",
   "execution_count": 168,
   "id": "98f24332-f267-4cb3-afe0-47088a3f7082",
   "metadata": {},
   "outputs": [],
   "source": [
    "# [[21,41,61],\n",
    "#  [23,43,63],\n",
    "#  [25,45,65]]"
   ]
  },
  {
   "cell_type": "code",
   "execution_count": 169,
   "id": "4682619c-2ca9-48eb-84d1-d2cf7c0b736a",
   "metadata": {},
   "outputs": [],
   "source": [
    "# [[23,53,63,83],\n",
    "#  [25,55,65,85],\n",
    "#  [27,57,67,87],\n",
    "#  [29,59,69,89]]"
   ]
  },
  {
   "cell_type": "code",
   "execution_count": 175,
   "id": "ea13b9a7-5699-4939-befe-afb9463a0a3e",
   "metadata": {},
   "outputs": [
    {
     "data": {
      "text/plain": [
       "array([[32, 42, 52],\n",
       "       [33, 43, 53]])"
      ]
     },
     "execution_count": 175,
     "metadata": {},
     "output_type": "execute_result"
    }
   ],
   "source": [
    "arr20[1:3,3:6]"
   ]
  },
  {
   "cell_type": "code",
   "execution_count": 188,
   "id": "1772cadc-3528-4bbb-bcd8-da7e54ec2dc1",
   "metadata": {},
   "outputs": [
    {
     "data": {
      "text/plain": [
       "array([[33, 43, 53, 63, 73, 83, 93],\n",
       "       [34, 44, 54, 64, 74, 84, 94],\n",
       "       [35, 45, 55, 65, 75, 85, 95],\n",
       "       [36, 46, 56, 66, 76, 86, 96],\n",
       "       [37, 47, 57, 67, 77, 87, 97],\n",
       "       [38, 48, 58, 68, 78, 88, 98]])"
      ]
     },
     "execution_count": 188,
     "metadata": {},
     "output_type": "execute_result"
    }
   ],
   "source": [
    "arr20[2:8,3:]"
   ]
  },
  {
   "cell_type": "code",
   "execution_count": null,
   "id": "e0bb891e-093e-4cde-a3fa-c3cc5bb24e64",
   "metadata": {},
   "outputs": [],
   "source": []
  }
 ],
 "metadata": {
  "kernelspec": {
   "display_name": "Python 3 (ipykernel)",
   "language": "python",
   "name": "python3"
  },
  "language_info": {
   "codemirror_mode": {
    "name": "ipython",
    "version": 3
   },
   "file_extension": ".py",
   "mimetype": "text/x-python",
   "name": "python",
   "nbconvert_exporter": "python",
   "pygments_lexer": "ipython3",
   "version": "3.11.9"
  }
 },
 "nbformat": 4,
 "nbformat_minor": 5
}
