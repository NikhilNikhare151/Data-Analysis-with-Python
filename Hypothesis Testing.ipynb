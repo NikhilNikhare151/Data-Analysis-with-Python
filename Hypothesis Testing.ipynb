{
 "cells": [
  {
   "cell_type": "markdown",
   "id": "5f86c54c-cb3f-47b8-a551-f98f3fa5ce17",
   "metadata": {},
   "source": [
    "# Hypohesis Testing"
   ]
  },
  {
   "cell_type": "code",
   "execution_count": 1,
   "id": "bee57aa0-d4ce-4622-83d3-3db2911de750",
   "metadata": {},
   "outputs": [],
   "source": [
    "import numpy as np"
   ]
  },
  {
   "cell_type": "code",
   "execution_count": 20,
   "id": "580cf485-cafa-4172-aaa6-4c9e727fd6d5",
   "metadata": {},
   "outputs": [],
   "source": [
    "def two_tail_z_test(mu,x,n,s):       \n",
    "    res=np.abs((x-mu))/(s/np.sqrt(n))\n",
    "    return res"
   ]
  },
  {
   "cell_type": "code",
   "execution_count": 21,
   "id": "bf5d5344-9b1d-4c16-a29a-5451496a051b",
   "metadata": {},
   "outputs": [],
   "source": [
    "def one_tail_z_test(x1,x2,n1,n2,s1,s2):\n",
    "    res=np.abs(x1-x2)/np.sqrt((np.square(s1)/n1)+(np.square(s2)/n2))\n",
    "    return res"
   ]
  },
  {
   "cell_type": "code",
   "execution_count": 22,
   "id": "ecaa25f3-0253-4351-8185-2d92d7ddcabc",
   "metadata": {},
   "outputs": [],
   "source": [
    "mu,x,n,s=30,31,50,2"
   ]
  },
  {
   "cell_type": "code",
   "execution_count": 23,
   "id": "c214c917-f397-4917-b940-d328ab04b9cb",
   "metadata": {},
   "outputs": [
    {
     "data": {
      "text/plain": [
       "np.float64(3.5355339059327378)"
      ]
     },
     "execution_count": 23,
     "metadata": {},
     "output_type": "execute_result"
    }
   ],
   "source": [
    "two_tail_z_test(mu,x,n,s)"
   ]
  },
  {
   "cell_type": "code",
   "execution_count": 11,
   "id": "acefff39-f204-4fa8-bf0c-71a7b5edd299",
   "metadata": {},
   "outputs": [],
   "source": [
    "x1,x2,n1,n2,s1,s2=78,82,60,70,10,12"
   ]
  },
  {
   "cell_type": "code",
   "execution_count": 12,
   "id": "52da564d-b5e7-4d43-b514-211264105783",
   "metadata": {},
   "outputs": [
    {
     "data": {
      "text/plain": [
       "np.float64(2.072842297864422)"
      ]
     },
     "execution_count": 12,
     "metadata": {},
     "output_type": "execute_result"
    }
   ],
   "source": [
    "one_tail_z_test(x1,x2,n1,n2,s1,s2)"
   ]
  },
  {
   "cell_type": "code",
   "execution_count": 24,
   "id": "627875b0-87a3-47a8-8cf3-96869e1785d9",
   "metadata": {},
   "outputs": [],
   "source": [
    "# # A marketing team tests two different advertisements. Ad A (n=150) results in an average sales increase of $200 with a standard deviation of\n",
    "# $50, and Ad B (n=160) results in an average sales increase of $210 with a standard deviation of $55.\n",
    "# Determine if there is a significant difference in the effectiveness of the two ads at an alpha level of 0.01. "
   ]
  },
  {
   "cell_type": "code",
   "execution_count": 26,
   "id": "2cd7ad19-5986-4efd-8ff4-40a12ad225e9",
   "metadata": {},
   "outputs": [],
   "source": [
    "h0=\"There is no any significance difference in both advertisements\"\n",
    "ha=\"There is significance differene in bth advertisements\""
   ]
  },
  {
   "cell_type": "code",
   "execution_count": 27,
   "id": "ca0b01d4-5a3d-485a-8aee-4a836e85297f",
   "metadata": {},
   "outputs": [],
   "source": [
    "x1,x2,n1,n2,s1,s2=200,210,150,160,50,55"
   ]
  },
  {
   "cell_type": "code",
   "execution_count": 28,
   "id": "d654b452-8921-4301-a149-e58dadd3fc79",
   "metadata": {},
   "outputs": [],
   "source": [
    "z_comp=one_tail_z_test(x1,x2,n1,n2,s1,s2)"
   ]
  },
  {
   "cell_type": "code",
   "execution_count": 29,
   "id": "bbd474b0-99a6-41eb-a6dd-0dd3af5776e5",
   "metadata": {},
   "outputs": [
    {
     "data": {
      "text/plain": [
       "np.float64(1.6766416967287225)"
      ]
     },
     "execution_count": 29,
     "metadata": {},
     "output_type": "execute_result"
    }
   ],
   "source": [
    "z_comp"
   ]
  },
  {
   "cell_type": "code",
   "execution_count": 30,
   "id": "ee968417-44ed-4c0f-8ccd-f511152cddfc",
   "metadata": {},
   "outputs": [],
   "source": [
    "z_tab=2.33"
   ]
  },
  {
   "cell_type": "code",
   "execution_count": 31,
   "id": "38da6281-3fa9-41d6-a47d-0e1b82323d24",
   "metadata": {},
   "outputs": [
    {
     "name": "stdout",
     "output_type": "stream",
     "text": [
      "Accept the null hypothesis There is no any significance difference in both advertisements\n"
     ]
    }
   ],
   "source": [
    "if z_tab > z_comp:\n",
    "    print(\"Accept the null hypothesis\",h0)\n",
    "else:\n",
    "    print(\"Reject the null hypothesis\",ha)"
   ]
  },
  {
   "cell_type": "code",
   "execution_count": 32,
   "id": "d1c95594-89b4-4f50-ace4-ce7c6a0e39c7",
   "metadata": {},
   "outputs": [],
   "source": [
    " # A teacher claims that the average score of her class on a final exam is 75. A sample of 15 students has a\n",
    "# mean score of 72 with a standard deviation of 8. Test the teacher's claim at an alpha level of 0.05. "
   ]
  },
  {
   "cell_type": "code",
   "execution_count": 35,
   "id": "c23a92c6-ba98-405a-9c5e-1476c9ad79b6",
   "metadata": {},
   "outputs": [],
   "source": [
    "from scipy.stats import ttest_1samp,ttest_ind,spearmanr,shapiro,chi2_contingency"
   ]
  },
  {
   "cell_type": "code",
   "execution_count": 74,
   "id": "44c11e18-d7b9-4b98-8693-a80e399564b9",
   "metadata": {},
   "outputs": [
    {
     "data": {
      "text/plain": [
       "(np.float64(72.80367129262233), np.float64(7.739677533687862))"
      ]
     },
     "execution_count": 74,
     "metadata": {},
     "output_type": "execute_result"
    }
   ],
   "source": [
    "marks=np.random.normal(72,8,15)\n",
    "marks.mean(),marks.std()"
   ]
  },
  {
   "cell_type": "code",
   "execution_count": 75,
   "id": "266e27fe-38ad-475a-9c3b-23fe3381eeb9",
   "metadata": {},
   "outputs": [
    {
     "data": {
      "text/plain": [
       "array([63.99987557, 74.44558393, 70.09258927, 86.42986203, 57.33468697,\n",
       "       72.29064965, 70.82203556, 65.17744131, 69.90517121, 70.77716513,\n",
       "       73.78093578, 72.19289817, 86.71271129, 74.66350596, 83.42995755])"
      ]
     },
     "execution_count": 75,
     "metadata": {},
     "output_type": "execute_result"
    }
   ],
   "source": [
    "marks"
   ]
  },
  {
   "cell_type": "code",
   "execution_count": 83,
   "id": "9014f1da-9a3d-499c-9757-37bee4ee7daf",
   "metadata": {},
   "outputs": [],
   "source": [
    "stat_val,p_val=ttest_1samp(marks,75)"
   ]
  },
  {
   "cell_type": "markdown",
   "id": "57c289d0-668d-4660-9e57-59533deb3b5f",
   "metadata": {},
   "source": [
    "* ttest_1samp function in SciPy is used to perform a one-sample t-test. "
   ]
  },
  {
   "cell_type": "code",
   "execution_count": 84,
   "id": "c76b28d3-5a95-4140-b186-ffec4526bb2b",
   "metadata": {},
   "outputs": [
    {
     "data": {
      "text/plain": [
       "(np.float64(-1.061789654152116), np.float64(0.3063049941792448))"
      ]
     },
     "execution_count": 84,
     "metadata": {},
     "output_type": "execute_result"
    }
   ],
   "source": [
    "stat_val,p_val"
   ]
  },
  {
   "cell_type": "code",
   "execution_count": 78,
   "id": "8bd44e1a-3513-4194-9d64-d9aa3b512997",
   "metadata": {},
   "outputs": [],
   "source": [
    "alpha = 0.05"
   ]
  },
  {
   "cell_type": "code",
   "execution_count": 81,
   "id": "110e63aa-9902-42c1-9b75-dc613b42a69f",
   "metadata": {},
   "outputs": [],
   "source": [
    "h0=\"Average score is 75\"\n",
    "ha=\"Average score is not 75\""
   ]
  },
  {
   "cell_type": "code",
   "execution_count": 82,
   "id": "be2c4cf8-2805-4b7e-bae9-33437965cf6a",
   "metadata": {},
   "outputs": [
    {
     "name": "stdout",
     "output_type": "stream",
     "text": [
      "Accept the null hypothesis Average score is 75\n"
     ]
    }
   ],
   "source": [
    "if alpha < p_val:\n",
    "    print(\"Accept the null hypothesis\",h0)\n",
    "else:\n",
    "    print(\"Reject the null hypothesis\",ha)"
   ]
  },
  {
   "cell_type": "code",
   "execution_count": 85,
   "id": "32c71e15-c018-4025-a647-a7001320a632",
   "metadata": {},
   "outputs": [],
   "source": [
    "# A brewery claims that their beer contains 5% alcohol by volume. A sample of 20 bottles shows a mean\n",
    "# alcohol content of 4.8% with a standard deviation of 0.3%. Test the brewery's claim at an alpha level of 0.01. "
   ]
  },
  {
   "cell_type": "code",
   "execution_count": 92,
   "id": "93ef0761-a04f-4b46-882d-eb3a54d84a64",
   "metadata": {},
   "outputs": [
    {
     "data": {
      "text/plain": [
       "(np.float64(4.783801396280753), np.float64(0.32071408121595657))"
      ]
     },
     "execution_count": 92,
     "metadata": {},
     "output_type": "execute_result"
    }
   ],
   "source": [
    "alc=np.random.normal(4.8,0.3,20)\n",
    "alc.mean(),alc.std()"
   ]
  },
  {
   "cell_type": "code",
   "execution_count": 93,
   "id": "7c305c9c-3db4-4473-b4df-ec72eb378784",
   "metadata": {},
   "outputs": [],
   "source": [
    "h0=\"Average alcohol contain is 5%\"\n",
    "ha=\"Average alcohol is not 5%\""
   ]
  },
  {
   "cell_type": "code",
   "execution_count": 94,
   "id": "1402b6e8-04b4-4874-935a-628b68c2e962",
   "metadata": {},
   "outputs": [],
   "source": [
    "alpha=0.01"
   ]
  },
  {
   "cell_type": "code",
   "execution_count": 95,
   "id": "5b5d36ec-4ae3-40d7-8246-67ec90b88af5",
   "metadata": {},
   "outputs": [],
   "source": [
    "stat_val,p_val=ttest_1samp(alc,5)"
   ]
  },
  {
   "cell_type": "code",
   "execution_count": 96,
   "id": "13c11f4a-d17b-4100-83b4-deffc564eead",
   "metadata": {},
   "outputs": [
    {
     "data": {
      "text/plain": [
       "(np.float64(-2.9384050172472103), np.float64(0.008434804169467071))"
      ]
     },
     "execution_count": 96,
     "metadata": {},
     "output_type": "execute_result"
    }
   ],
   "source": [
    "stat_val,p_val"
   ]
  },
  {
   "cell_type": "code",
   "execution_count": 97,
   "id": "d7f3642c-1d31-4158-b457-09deff9a648e",
   "metadata": {},
   "outputs": [
    {
     "name": "stdout",
     "output_type": "stream",
     "text": [
      "Reject the null hypothesis Average alcohol is not 5%\n"
     ]
    }
   ],
   "source": [
    "if alpha < p_val:\n",
    "    print(\"Accept the null hypothesis\",h0)\n",
    "else:\n",
    "    print(\"Reject the null hypothesis\",ha)"
   ]
  },
  {
   "cell_type": "code",
   "execution_count": 98,
   "id": "fb455d03-374a-49b5-9136-4ae9c45e3cd0",
   "metadata": {},
   "outputs": [],
   "source": [
    " # A manufacturer claims that the average lifetime of their light bulbs is 1000 hours. A sample of 25 bulbs\n",
    "# has a mean lifetime of 990 hours with a standard deviation of 15 hours. Test the manufacturer's claim at an alpha level of 0.10. "
   ]
  },
  {
   "cell_type": "code",
   "execution_count": 107,
   "id": "85869eef-921f-4f1f-9ffb-d33c9f94a856",
   "metadata": {},
   "outputs": [
    {
     "data": {
      "text/plain": [
       "(np.float64(991.7702340192683), np.float64(14.535553464004522))"
      ]
     },
     "execution_count": 107,
     "metadata": {},
     "output_type": "execute_result"
    }
   ],
   "source": [
    "bulb_life=np.random.normal(990,15,25)\n",
    "bulb_life.mean(),bulb_life.std()"
   ]
  },
  {
   "cell_type": "code",
   "execution_count": 113,
   "id": "8b5bd2c8-f115-442b-8e79-1e30f6f4775e",
   "metadata": {},
   "outputs": [],
   "source": [
    "h0=\"Average life of bulb is 1000 hours\"\n",
    "ha=\"Average life od bulb is not 1000 hours\""
   ]
  },
  {
   "cell_type": "code",
   "execution_count": 109,
   "id": "80cfc240-f45b-4209-bc04-70032c5c0bbc",
   "metadata": {},
   "outputs": [],
   "source": [
    "alpha=0.1"
   ]
  },
  {
   "cell_type": "code",
   "execution_count": 110,
   "id": "1d12b0bd-77d7-4b60-bf6e-8f5c32fdc092",
   "metadata": {},
   "outputs": [],
   "source": [
    "stat_val,p_val=ttest_1samp(bulb_life,1000)"
   ]
  },
  {
   "cell_type": "code",
   "execution_count": 111,
   "id": "01596d88-ad25-4d58-a2bf-f938c86e9e3f",
   "metadata": {},
   "outputs": [
    {
     "data": {
      "text/plain": [
       "(np.float64(-2.773713076041973), np.float64(0.010553237804520936))"
      ]
     },
     "execution_count": 111,
     "metadata": {},
     "output_type": "execute_result"
    }
   ],
   "source": [
    "stat_val,p_val"
   ]
  },
  {
   "cell_type": "code",
   "execution_count": 114,
   "id": "a713cf4f-2ee4-451b-971a-677615c35e5b",
   "metadata": {},
   "outputs": [
    {
     "name": "stdout",
     "output_type": "stream",
     "text": [
      "Reject the null hypothesis Average life od bulb is not 1000 hours\n"
     ]
    }
   ],
   "source": [
    "if alpha < p_val:\n",
    "    print(\"Accept the null hypothesis\",h0)\n",
    "else:\n",
    "    print(\"Reject the null hypothesis\",ha)"
   ]
  },
  {
   "cell_type": "code",
   "execution_count": 115,
   "id": "5ce0901b-2d3f-4c44-bbf0-7fd4676a6890",
   "metadata": {},
   "outputs": [],
   "source": [
    "# Two different teaching methods are tested for their effectiveness. Method A is used on a sample of 20\n",
    "# students, resulting in a mean score of 85 with a standard deviation of 5. Method B is used on a sample\n",
    "# of 22 students, resulting in a mean score of 88 with a standard deviation of 6. Test if there is a significant\n",
    "# difference between the two methods at an alpha level of 0.05. "
   ]
  },
  {
   "cell_type": "code",
   "execution_count": 129,
   "id": "37f41899-9e88-4c36-a854-79ac30db556e",
   "metadata": {},
   "outputs": [
    {
     "data": {
      "text/plain": [
       "(np.float64(85.0144240129573),\n",
       " np.float64(4.58245207985263),\n",
       " np.float64(88.33072800224554),\n",
       " np.float64(6.1033883328462695))"
      ]
     },
     "execution_count": 129,
     "metadata": {},
     "output_type": "execute_result"
    }
   ],
   "source": [
    "a=np.random.normal(85,5,20)\n",
    "b=np.random.normal(88,6,22)\n",
    "\n",
    "a.mean(),a.std(),b.mean(),b.std()"
   ]
  },
  {
   "cell_type": "code",
   "execution_count": 147,
   "id": "928fd8ca-b772-474e-b423-165f5dd61432",
   "metadata": {},
   "outputs": [],
   "source": [
    "h0=\"The method A is similar to method B\"\n",
    "ha=\"There is significant difference between method A and method B\""
   ]
  },
  {
   "cell_type": "code",
   "execution_count": 148,
   "id": "884e8813-978c-43b6-a583-8b614c614b5f",
   "metadata": {},
   "outputs": [],
   "source": [
    "stat_val,p_val=ttest_ind(a,b)"
   ]
  },
  {
   "cell_type": "code",
   "execution_count": 149,
   "id": "65787118-4654-4386-97af-e64d9d17c3bd",
   "metadata": {},
   "outputs": [],
   "source": [
    "alpha=0.05"
   ]
  },
  {
   "cell_type": "code",
   "execution_count": 150,
   "id": "57d16a31-896e-411b-81cf-332591c93a0e",
   "metadata": {},
   "outputs": [
    {
     "name": "stdout",
     "output_type": "stream",
     "text": [
      "Accept the null hypothesis The method A is similar to method B\n"
     ]
    }
   ],
   "source": [
    "if alpha < p_val:\n",
    "    print(\"Accept the null hypothesis\",h0)\n",
    "else:\n",
    "    print(\"Reject the null hypothesis\",ha)"
   ]
  },
  {
   "cell_type": "code",
   "execution_count": null,
   "id": "a2dca613-1749-4586-a757-e575d5254ed6",
   "metadata": {},
   "outputs": [],
   "source": []
  }
 ],
 "metadata": {
  "kernelspec": {
   "display_name": "Python 3 (ipykernel)",
   "language": "python",
   "name": "python3"
  },
  "language_info": {
   "codemirror_mode": {
    "name": "ipython",
    "version": 3
   },
   "file_extension": ".py",
   "mimetype": "text/x-python",
   "name": "python",
   "nbconvert_exporter": "python",
   "pygments_lexer": "ipython3",
   "version": "3.11.9"
  }
 },
 "nbformat": 4,
 "nbformat_minor": 5
}
